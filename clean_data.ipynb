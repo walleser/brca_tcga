{
 "cells": [
  {
   "cell_type": "code",
   "execution_count": 96,
   "metadata": {},
   "outputs": [],
   "source": [
    "import pandas as pd\n",
    "import numpy as np\n",
    "\n",
    "#model selection\n",
    "from sklearn.pipeline import make_pipeline\n",
    "from sklearn.model_selection import train_test_split,RandomizedSearchCV,cross_validate\n",
    "\n",
    "#############\n",
    "#preprocessing\n",
    "\n",
    "#missing features\n",
    "\n",
    "\n",
    "#scaling\n",
    "from sklearn.preprocessing import StandardScaler\n",
    "from sklearn.impute import SimpleImputer\n",
    "\n",
    "#oversampling\n",
    "from imblearn.pipeline import Pipeline #can't use standard Pipeline with SMOTE\n",
    "from imblearn.over_sampling import SMOTE\n",
    "\n",
    "\n",
    "####################\n",
    "#models \n",
    "from sklearn.tree import DecisionTreeClassifier\n",
    "\n",
    "from sklearn.experimental import enable_hist_gradient_boosting  \n",
    "from sklearn.ensemble import HistGradientBoostingClassifier\n",
    "\n",
    "\n",
    "\n",
    "#model_evaluation\n",
    "from sklearn.metrics import make_scorer, recall_score, precision_score,matthews_corrcoef\n"
   ]
  },
  {
   "cell_type": "code",
   "execution_count": 25,
   "metadata": {},
   "outputs": [
    {
     "name": "stdout",
     "output_type": "stream",
     "text": [
      "(876, 364)\n"
     ]
    },
    {
     "data": {
      "text/html": [
       "<div>\n",
       "<style scoped>\n",
       "    .dataframe tbody tr th:only-of-type {\n",
       "        vertical-align: middle;\n",
       "    }\n",
       "\n",
       "    .dataframe tbody tr th {\n",
       "        vertical-align: top;\n",
       "    }\n",
       "\n",
       "    .dataframe thead th {\n",
       "        text-align: right;\n",
       "    }\n",
       "</style>\n",
       "<table border=\"1\" class=\"dataframe\">\n",
       "  <thead>\n",
       "    <tr style=\"text-align: right;\">\n",
       "      <th></th>\n",
       "      <th>#Patient Identifier</th>\n",
       "      <th>Sample Identifier</th>\n",
       "      <th>Oncotree Code</th>\n",
       "      <th>Cancer Type</th>\n",
       "      <th>Cancer Type Detailed</th>\n",
       "      <th>Tumor Type</th>\n",
       "      <th>Neoplasm Histologic Grade</th>\n",
       "      <th>Tissue Prospective Collection Indicator</th>\n",
       "      <th>Tissue Retrospective Collection Indicator</th>\n",
       "      <th>Tissue Source Site</th>\n",
       "      <th>...</th>\n",
       "      <th>22_mutcount</th>\n",
       "      <th>3_mutcount</th>\n",
       "      <th>4_mutcount</th>\n",
       "      <th>5_mutcount</th>\n",
       "      <th>6_mutcount</th>\n",
       "      <th>7_mutcount</th>\n",
       "      <th>8_mutcount</th>\n",
       "      <th>9_mutcount</th>\n",
       "      <th>X_mutcount</th>\n",
       "      <th>Y_mutcount</th>\n",
       "    </tr>\n",
       "  </thead>\n",
       "  <tbody>\n",
       "    <tr>\n",
       "      <th>0</th>\n",
       "      <td>TCGA-3C-AALI</td>\n",
       "      <td>TCGA-3C-AALI-01</td>\n",
       "      <td>IDC</td>\n",
       "      <td>Invasive Breast Carcinoma</td>\n",
       "      <td>Breast Invasive Ductal Carcinoma</td>\n",
       "      <td>Infiltrating Ductal Carcinoma</td>\n",
       "      <td>NaN</td>\n",
       "      <td>No</td>\n",
       "      <td>Yes</td>\n",
       "      <td>3C</td>\n",
       "      <td>...</td>\n",
       "      <td>9.0</td>\n",
       "      <td>54.0</td>\n",
       "      <td>29.0</td>\n",
       "      <td>32.0</td>\n",
       "      <td>38.0</td>\n",
       "      <td>41.0</td>\n",
       "      <td>32.0</td>\n",
       "      <td>22.0</td>\n",
       "      <td>29.0</td>\n",
       "      <td>NaN</td>\n",
       "    </tr>\n",
       "    <tr>\n",
       "      <th>1</th>\n",
       "      <td>TCGA-3C-AALK</td>\n",
       "      <td>TCGA-3C-AALK-01</td>\n",
       "      <td>IDC</td>\n",
       "      <td>Invasive Breast Carcinoma</td>\n",
       "      <td>Breast Invasive Ductal Carcinoma</td>\n",
       "      <td>Infiltrating Ductal Carcinoma</td>\n",
       "      <td>NaN</td>\n",
       "      <td>No</td>\n",
       "      <td>Yes</td>\n",
       "      <td>3C</td>\n",
       "      <td>...</td>\n",
       "      <td>3.0</td>\n",
       "      <td>5.0</td>\n",
       "      <td>2.0</td>\n",
       "      <td>9.0</td>\n",
       "      <td>5.0</td>\n",
       "      <td>2.0</td>\n",
       "      <td>NaN</td>\n",
       "      <td>4.0</td>\n",
       "      <td>4.0</td>\n",
       "      <td>NaN</td>\n",
       "    </tr>\n",
       "    <tr>\n",
       "      <th>2</th>\n",
       "      <td>TCGA-4H-AAAK</td>\n",
       "      <td>TCGA-4H-AAAK-01</td>\n",
       "      <td>ILC</td>\n",
       "      <td>Invasive Breast Carcinoma</td>\n",
       "      <td>Breast Invasive Lobular Carcinoma</td>\n",
       "      <td>Infiltrating Lobular Carcinoma</td>\n",
       "      <td>NaN</td>\n",
       "      <td>Yes</td>\n",
       "      <td>No</td>\n",
       "      <td>4H</td>\n",
       "      <td>...</td>\n",
       "      <td>NaN</td>\n",
       "      <td>1.0</td>\n",
       "      <td>3.0</td>\n",
       "      <td>2.0</td>\n",
       "      <td>NaN</td>\n",
       "      <td>2.0</td>\n",
       "      <td>2.0</td>\n",
       "      <td>4.0</td>\n",
       "      <td>3.0</td>\n",
       "      <td>NaN</td>\n",
       "    </tr>\n",
       "    <tr>\n",
       "      <th>3</th>\n",
       "      <td>TCGA-5T-A9QA</td>\n",
       "      <td>TCGA-5T-A9QA-01</td>\n",
       "      <td>BRCNOS</td>\n",
       "      <td>Invasive Breast Carcinoma</td>\n",
       "      <td>Breast Invasive Carcinoma (NOS)</td>\n",
       "      <td>Other</td>\n",
       "      <td>NaN</td>\n",
       "      <td>Yes</td>\n",
       "      <td>No</td>\n",
       "      <td>5T</td>\n",
       "      <td>...</td>\n",
       "      <td>4.0</td>\n",
       "      <td>8.0</td>\n",
       "      <td>8.0</td>\n",
       "      <td>NaN</td>\n",
       "      <td>3.0</td>\n",
       "      <td>4.0</td>\n",
       "      <td>2.0</td>\n",
       "      <td>2.0</td>\n",
       "      <td>10.0</td>\n",
       "      <td>NaN</td>\n",
       "    </tr>\n",
       "    <tr>\n",
       "      <th>4</th>\n",
       "      <td>TCGA-A1-A0SF</td>\n",
       "      <td>TCGA-A1-A0SF-01</td>\n",
       "      <td>IDC</td>\n",
       "      <td>Invasive Breast Carcinoma</td>\n",
       "      <td>Breast Invasive Ductal Carcinoma</td>\n",
       "      <td>Infiltrating Ductal Carcinoma</td>\n",
       "      <td>NaN</td>\n",
       "      <td>No</td>\n",
       "      <td>Yes</td>\n",
       "      <td>A1</td>\n",
       "      <td>...</td>\n",
       "      <td>1.0</td>\n",
       "      <td>3.0</td>\n",
       "      <td>6.0</td>\n",
       "      <td>3.0</td>\n",
       "      <td>6.0</td>\n",
       "      <td>6.0</td>\n",
       "      <td>1.0</td>\n",
       "      <td>2.0</td>\n",
       "      <td>1.0</td>\n",
       "      <td>NaN</td>\n",
       "    </tr>\n",
       "  </tbody>\n",
       "</table>\n",
       "<p>5 rows × 364 columns</p>\n",
       "</div>"
      ],
      "text/plain": [
       "  #Patient Identifier Sample Identifier Oncotree Code  \\\n",
       "0        TCGA-3C-AALI   TCGA-3C-AALI-01           IDC   \n",
       "1        TCGA-3C-AALK   TCGA-3C-AALK-01           IDC   \n",
       "2        TCGA-4H-AAAK   TCGA-4H-AAAK-01           ILC   \n",
       "3        TCGA-5T-A9QA   TCGA-5T-A9QA-01        BRCNOS   \n",
       "4        TCGA-A1-A0SF   TCGA-A1-A0SF-01           IDC   \n",
       "\n",
       "                 Cancer Type               Cancer Type Detailed  \\\n",
       "0  Invasive Breast Carcinoma   Breast Invasive Ductal Carcinoma   \n",
       "1  Invasive Breast Carcinoma   Breast Invasive Ductal Carcinoma   \n",
       "2  Invasive Breast Carcinoma  Breast Invasive Lobular Carcinoma   \n",
       "3  Invasive Breast Carcinoma    Breast Invasive Carcinoma (NOS)   \n",
       "4  Invasive Breast Carcinoma   Breast Invasive Ductal Carcinoma   \n",
       "\n",
       "                       Tumor Type  Neoplasm Histologic Grade  \\\n",
       "0   Infiltrating Ductal Carcinoma                        NaN   \n",
       "1   Infiltrating Ductal Carcinoma                        NaN   \n",
       "2  Infiltrating Lobular Carcinoma                        NaN   \n",
       "3                           Other                        NaN   \n",
       "4   Infiltrating Ductal Carcinoma                        NaN   \n",
       "\n",
       "  Tissue Prospective Collection Indicator  \\\n",
       "0                                      No   \n",
       "1                                      No   \n",
       "2                                     Yes   \n",
       "3                                     Yes   \n",
       "4                                      No   \n",
       "\n",
       "  Tissue Retrospective Collection Indicator Tissue Source Site  ...  \\\n",
       "0                                       Yes                 3C  ...   \n",
       "1                                       Yes                 3C  ...   \n",
       "2                                        No                 4H  ...   \n",
       "3                                        No                 5T  ...   \n",
       "4                                       Yes                 A1  ...   \n",
       "\n",
       "  22_mutcount  3_mutcount 4_mutcount  5_mutcount  6_mutcount 7_mutcount  \\\n",
       "0         9.0        54.0       29.0        32.0        38.0       41.0   \n",
       "1         3.0         5.0        2.0         9.0         5.0        2.0   \n",
       "2         NaN         1.0        3.0         2.0         NaN        2.0   \n",
       "3         4.0         8.0        8.0         NaN         3.0        4.0   \n",
       "4         1.0         3.0        6.0         3.0         6.0        6.0   \n",
       "\n",
       "   8_mutcount 9_mutcount  X_mutcount  Y_mutcount  \n",
       "0        32.0       22.0        29.0         NaN  \n",
       "1         NaN        4.0         4.0         NaN  \n",
       "2         2.0        4.0         3.0         NaN  \n",
       "3         2.0        2.0        10.0         NaN  \n",
       "4         1.0        2.0         1.0         NaN  \n",
       "\n",
       "[5 rows x 364 columns]"
      ]
     },
     "execution_count": 25,
     "metadata": {},
     "output_type": "execute_result"
    }
   ],
   "source": [
    "df = pd.read_csv(\"brca_merged_data.csv\",index_col= 0)\n",
    "print(df.shape)\n",
    "df.head()"
   ]
  },
  {
   "cell_type": "code",
   "execution_count": 23,
   "metadata": {},
   "outputs": [
    {
     "data": {
      "text/plain": [
       "CTNNA1|alpha-Catenin                          876\n",
       "NKX2-1|TTF1                                   876\n",
       "CASP3|Caspase-3                               798\n",
       "CASP9|Caspase-9                               798\n",
       "PARP1|PARP1                                   798\n",
       "COPS5|JAB1                                    798\n",
       "PATIENT_ID                                      0\n",
       "SUBTYPE                                        79\n",
       "CANCER_TYPE_ACRONYM                             0\n",
       "OTHER_PATIENT_ID                                0\n",
       "AGE                                             0\n",
       "SEX                                             0\n",
       "AJCC_PATHOLOGIC_TUMOR_STAGE                     4\n",
       "AJCC_STAGING_EDITION                          117\n",
       "DAYS_LAST_FOLLOWUP                             85\n",
       "DAYS_TO_BIRTH                                  14\n",
       "DAYS_TO_INITIAL_PATHOLOGIC_DIAGNOSIS            0\n",
       "ETHNICITY                                     125\n",
       "FORM_COMPLETION_DATE                            0\n",
       "HISTORY_NEOADJUVANT_TRTYN                       0\n",
       "ICD_10                                          0\n",
       "ICD_O_3_HISTOLOGY                               0\n",
       "ICD_O_3_SITE                                    0\n",
       "INFORMED_CONSENT_VERIFIED                       0\n",
       "NEW_TUMOR_EVENT_AFTER_INITIAL_TREATMENT       158\n",
       "PATH_M_STAGE                                    0\n",
       "PATH_N_STAGE                                    0\n",
       "PATH_T_STAGE                                    0\n",
       "PERSON_NEOPLASM_CANCER_STATUS                 110\n",
       "PRIMARY_LYMPH_NODE_PRESENTATION_ASSESSMENT    277\n",
       "PRIOR_DX                                        1\n",
       "RACE                                           57\n",
       "RADIATION_THERAPY                              78\n",
       "WEIGHT                                        876\n",
       "CENTER                                          0\n",
       "IN_PANCANPATHWAYS_FREEZE                        0\n",
       "OS_STATUS                                       0\n",
       "OS_MONTHS                                       0\n",
       "DSS_STATUS                                     19\n",
       "DSS_MONTHS                                      1\n",
       "DFS_STATUS                                    121\n",
       "DFS_MONTHS                                    121\n",
       "PFS_STATUS                                      1\n",
       "PFS_MONTHS                                      1\n",
       "TTN                                           691\n",
       "PIK3CA                                        598\n",
       "TP53                                          584\n",
       "MUC16                                         764\n",
       "MAP3K1                                        801\n",
       "CDH1                                          778\n",
       "dtype: int64"
      ]
     },
     "execution_count": 23,
     "metadata": {},
     "output_type": "execute_result"
    }
   ],
   "source": [
    "df.isna().sum()[210:260]"
   ]
  },
  {
   "cell_type": "code",
   "execution_count": 9,
   "metadata": {},
   "outputs": [
    {
     "name": "stdout",
     "output_type": "stream",
     "text": [
      "Index(['Unnamed: 0', '#Patient Identifier', 'Sample Identifier',\n",
      "       'Oncotree Code', 'Cancer Type', 'Cancer Type Detailed', 'Tumor Type',\n",
      "       'Neoplasm Histologic Grade', 'Tissue Prospective Collection Indicator',\n",
      "       'Tissue Retrospective Collection Indicator',\n",
      "       ...\n",
      "       '22_mutcount', '3_mutcount', '4_mutcount', '5_mutcount', '6_mutcount',\n",
      "       '7_mutcount', '8_mutcount', '9_mutcount', 'X_mutcount', 'Y_mutcount'],\n",
      "      dtype='object', length=359)\n"
     ]
    }
   ],
   "source": [
    "cols = df.columns\n",
    "\n",
    "print(cols)"
   ]
  },
  {
   "cell_type": "code",
   "execution_count": 11,
   "metadata": {},
   "outputs": [
    {
     "data": {
      "text/plain": [
       "<AxesSubplot:>"
      ]
     },
     "execution_count": 11,
     "metadata": {},
     "output_type": "execute_result"
    },
    {
     "data": {
      "image/png": "[encoded data removed]",
      "text/plain": [
       "<Figure size 432x288 with 1 Axes>"
      ]
     },
     "metadata": {
      "needs_background": "light"
     },
     "output_type": "display_data"
    }
   ],
   "source": [
    "df['OS_MONTHS'].hist()"
   ]
  },
  {
   "cell_type": "code",
   "execution_count": 15,
   "metadata": {},
   "outputs": [
    {
     "data": {
      "text/plain": [
       "0      131.669790\n",
       "1       47.604958\n",
       "2       11.440971\n",
       "3        9.961535\n",
       "4       48.098103\n",
       "          ...    \n",
       "871     11.408094\n",
       "872     52.963803\n",
       "873     15.353256\n",
       "874      5.950620\n",
       "875    107.045402\n",
       "Name: PFS_MONTHS, Length: 876, dtype: float64"
      ]
     },
     "execution_count": 15,
     "metadata": {},
     "output_type": "execute_result"
    }
   ],
   "source": [
    "df['PFS_MONTHS']#.hist(by=\"OS_STATUS\")"
   ]
  },
  {
   "cell_type": "code",
   "execution_count": 13,
   "metadata": {},
   "outputs": [
    {
     "data": {
      "text/plain": [
       "<AxesSubplot:>"
      ]
     },
     "execution_count": 13,
     "metadata": {},
     "output_type": "execute_result"
    },
    {
     "data": {
      "image/png": "[encoded data removed]",
      "text/plain": [
       "<Figure size 432x288 with 1 Axes>"
      ]
     },
     "metadata": {
      "needs_background": "light"
     },
     "output_type": "display_data"
    }
   ],
   "source": [
    "df['DFS_MONTHS'].hist()"
   ]
  },
  {
   "cell_type": "markdown",
   "metadata": {},
   "source": [
    "# Make list of subset of columns that will need to be modeled"
   ]
  },
  {
   "cell_type": "code",
   "execution_count": 53,
   "metadata": {},
   "outputs": [],
   "source": [
    "model_cols = list(df.columns[18:209])\n",
    "model_cols.extend([\"AGE\",\"SEX\",\"RACE\",\"TMB (nonsynonymous)\"])\n",
    "model_cols.extend(list(df.columns[248:321]))"
   ]
  },
  {
   "cell_type": "code",
   "execution_count": 54,
   "metadata": {},
   "outputs": [],
   "source": [
    "#df.columns[248:321]"
   ]
  },
  {
   "cell_type": "code",
   "execution_count": 55,
   "metadata": {},
   "outputs": [],
   "source": [
    "#df.columns[290:321]"
   ]
  },
  {
   "cell_type": "code",
   "execution_count": 56,
   "metadata": {},
   "outputs": [],
   "source": [
    "#model_cols"
   ]
  },
  {
   "cell_type": "code",
   "execution_count": 58,
   "metadata": {},
   "outputs": [],
   "source": [
    "#unsure = [9]"
   ]
  },
  {
   "cell_type": "markdown",
   "metadata": {},
   "source": [
    "## Questions\n",
    "\n"
   ]
  },
  {
   "cell_type": "code",
   "execution_count": 59,
   "metadata": {},
   "outputs": [],
   "source": [
    "#TMB is total number of mutations\n",
    "\n",
    "#keep_idx = [2,9,11,13,14,16]\n",
    "#keep = [\"Oncotree Code\",\"Tissue Source Site\", \"Aneuploidy Score\",\"MSI MANTIS Score\",\"TMB (nonsynonymous)\"]\n",
    "\n",
    "#keep all cols between 18:216"
   ]
  },
  {
   "cell_type": "code",
   "execution_count": 60,
   "metadata": {},
   "outputs": [],
   "source": [
    "#cols_to_drop = [0,1,3,4,5,6,7,8,10,12,15,17]"
   ]
  },
  {
   "cell_type": "code",
   "execution_count": 61,
   "metadata": {},
   "outputs": [],
   "source": [
    "#df.iloc[:,6]"
   ]
  },
  {
   "cell_type": "code",
   "execution_count": 62,
   "metadata": {},
   "outputs": [],
   "source": [
    "#df.iloc[:5,250:260]"
   ]
  },
  {
   "cell_type": "code",
   "execution_count": 80,
   "metadata": {},
   "outputs": [
    {
     "data": {
      "text/plain": [
       "0:ALIVE OR DEAD TUMOR FREE    791\n",
       "1:DEAD WITH TUMOR              66\n",
       "Name: DSS_STATUS, dtype: int64"
      ]
     },
     "execution_count": 80,
     "metadata": {},
     "output_type": "execute_result"
    }
   ],
   "source": [
    "#'DFS_STATUS', 'DFS_MONTHS', 'PFS_STATUS', 'PFS_MONTHS'"
   ]
  },
  {
   "cell_type": "code",
   "execution_count": 82,
   "metadata": {},
   "outputs": [
    {
     "data": {
      "text/plain": [
       "<AxesSubplot:>"
      ]
     },
     "execution_count": 82,
     "metadata": {},
     "output_type": "execute_result"
    },
    {
     "data": {
      "image/png": "[encoded data removed]",
      "text/plain": [
       "<Figure size 432x288 with 1 Axes>"
      ]
     },
     "metadata": {
      "needs_background": "light"
     },
     "output_type": "display_data"
    }
   ],
   "source": [
    "df[\"DSS_MONTHS\"].hist()"
   ]
  },
  {
   "cell_type": "code",
   "execution_count": 256,
   "metadata": {},
   "outputs": [
    {
     "data": {
      "text/plain": [
       "PRDX1|PRDX1                      0\n",
       "RAB11A RAB11B|Rab11              0\n",
       "RAB25|Rab25                      0\n",
       "RPTOR|Raptor                     0\n",
       "RBM15|RBM15                      0\n",
       "RICTOR|Rictor                    0\n",
       "RICTOR|Rictor_pT1135             0\n",
       "SCD1|SCD1                        0\n",
       "SRSF1|SF2                        0\n",
       "WWTR1|TAZ                        0\n",
       "TIGAR|TIGAR                      0\n",
       "TGM2|Transglutaminase            0\n",
       "TFRC|TFRC                        0\n",
       "TSC1|TSC1                        0\n",
       "TSC2|Tuberin_pT1462              0\n",
       "VHL|VHL                          0\n",
       "XBP1|XBP1                        0\n",
       "TUBA1B|Acetyl-a-Tubulin-Lys40    0\n",
       "SQSTM1|p62-LCK-ligand            0\n",
       "YWHAB|14-3-3_beta                0\n",
       "YWHAZ|14-3-3_zeta                0\n",
       "ACVRL1|ACVRL1                    0\n",
       "DIRAS3|DIRAS3                    0\n",
       "ANXA1|Annexin-1                  0\n",
       "PREX1|PREX1                      0\n",
       "ERCC1|ERCC1                      0\n",
       "MSH2|MSH2                        0\n",
       "MSH6|MSH6                        0\n",
       "DIABLO|Smac                      0\n",
       "dtype: int64"
      ]
     },
     "execution_count": 256,
     "metadata": {},
     "output_type": "execute_result"
    }
   ],
   "source": [
    "df.iloc[:,180:209].isna().sum()"
   ]
  },
  {
   "cell_type": "markdown",
   "metadata": {
    "tags": []
   },
   "source": [
    "# Variable Selection\n",
    "\n",
    "- Patient characteristics\n",
    "- mutation data\n",
    "- rppa data\n",
    "- others?\n",
    "\n",
    "\n",
    "\n",
    "# Target Variable\n",
    "\n",
    "- \"DSS_STATUS\"\n",
    "- others?\n"
   ]
  },
  {
   "cell_type": "code",
   "execution_count": 121,
   "metadata": {},
   "outputs": [
    {
     "data": {
      "text/plain": [
       "19"
      ]
     },
     "execution_count": 121,
     "metadata": {},
     "output_type": "execute_result"
    }
   ],
   "source": [
    "df[\"DSS_STATUS\"].value_counts()\n",
    "df[\"DSS_STATUS\"].isna().sum()\n",
    "#notes we are assuming the person dies of cancer\n",
    "# this might be our only option"
   ]
  },
  {
   "cell_type": "markdown",
   "metadata": {},
   "source": [
    "# Variable Selection\n",
    "\n",
    "- WEIGHT is missing for all \n",
    "- \"ETHNICITY\" is missing for many \"ETHNICITY\""
   ]
  },
  {
   "cell_type": "code",
   "execution_count": 266,
   "metadata": {},
   "outputs": [],
   "source": [
    "#model_cols.extend([\"AGE\",\"Aneuploidy Score\",\"MSI MANTIS Score\",\"TMB (nonsynonymous)\",\"DSS_STATUS\"])"
   ]
  },
  {
   "cell_type": "code",
   "execution_count": 83,
   "metadata": {},
   "outputs": [],
   "source": [
    "df_model = df.loc[:,model_cols]"
   ]
  },
  {
   "cell_type": "code",
   "execution_count": 84,
   "metadata": {},
   "outputs": [],
   "source": [
    "#remove nonoutcome variables\n",
    "##'DFS_STATUS', 'DFS_MONTHS', 'PFS_STATUS', 'PFS_MONTHS'\n",
    "\n",
    "df_model.drop(['DFS_MONTHS', 'PFS_STATUS', 'PFS_MONTHS'],axis=1,inplace=True)"
   ]
  },
  {
   "cell_type": "code",
   "execution_count": 85,
   "metadata": {},
   "outputs": [
    {
     "data": {
      "text/plain": [
       "(876, 265)"
      ]
     },
     "execution_count": 85,
     "metadata": {},
     "output_type": "execute_result"
    }
   ],
   "source": [
    "df_model.shape"
   ]
  },
  {
   "cell_type": "code",
   "execution_count": 86,
   "metadata": {},
   "outputs": [
    {
     "data": {
      "text/plain": [
       "69"
      ]
     },
     "execution_count": 86,
     "metadata": {},
     "output_type": "execute_result"
    }
   ],
   "source": [
    "sum(df_model.isna().sum() > 100)"
   ]
  },
  {
   "cell_type": "code",
   "execution_count": 87,
   "metadata": {},
   "outputs": [],
   "source": [
    "df_model.dropna(axis= 1,thresh=100,inplace=True)"
   ]
  },
  {
   "cell_type": "code",
   "execution_count": 88,
   "metadata": {},
   "outputs": [
    {
     "data": {
      "text/plain": [
       "(876, 203)"
      ]
     },
     "execution_count": 88,
     "metadata": {},
     "output_type": "execute_result"
    }
   ],
   "source": [
    "df_model.shape"
   ]
  },
  {
   "cell_type": "markdown",
   "metadata": {},
   "source": [
    "# Drop rows with missing outcome variable"
   ]
  },
  {
   "cell_type": "code",
   "execution_count": 89,
   "metadata": {},
   "outputs": [],
   "source": [
    "df_model.dropna(axis = 0, subset= [\"DSS_STATUS\"],inplace=True)"
   ]
  },
  {
   "cell_type": "code",
   "execution_count": 90,
   "metadata": {},
   "outputs": [
    {
     "data": {
      "text/plain": [
       "(857, 203)"
      ]
     },
     "execution_count": 90,
     "metadata": {},
     "output_type": "execute_result"
    }
   ],
   "source": [
    "df_model.shape"
   ]
  },
  {
   "cell_type": "markdown",
   "metadata": {},
   "source": [
    "# Define X and Y values"
   ]
  },
  {
   "cell_type": "code",
   "execution_count": 207,
   "metadata": {},
   "outputs": [],
   "source": [
    "map_dict = {\"0:ALIVE OR DEAD TUMOR FREE\" : int(0),\n",
    "            \"1:DEAD WITH TUMOR\" : int(1)\n",
    "           }\n",
    "\n",
    "\n",
    "X = df_model.drop(labels= ['DSS_STATUS', 'DSS_MONTHS', \"DFS_STATUS\" ], axis=1)\n",
    "y = df_model[\"DSS_STATUS\"].map(map_dict)\n",
    "\n"
   ]
  },
  {
   "cell_type": "code",
   "execution_count": 208,
   "metadata": {},
   "outputs": [
    {
     "data": {
      "text/plain": [
       "0    791\n",
       "1     66\n",
       "Name: DSS_STATUS, dtype: int64"
      ]
     },
     "execution_count": 208,
     "metadata": {},
     "output_type": "execute_result"
    }
   ],
   "source": [
    "y.value_counts()"
   ]
  },
  {
   "cell_type": "code",
   "execution_count": 209,
   "metadata": {},
   "outputs": [],
   "source": [
    "#get dummy variables\n",
    "\n",
    "X = pd.get_dummies(X)"
   ]
  },
  {
   "cell_type": "code",
   "execution_count": null,
   "metadata": {},
   "outputs": [],
   "source": []
  },
  {
   "cell_type": "code",
   "execution_count": null,
   "metadata": {},
   "outputs": [],
   "source": []
  },
  {
   "cell_type": "code",
   "execution_count": null,
   "metadata": {},
   "outputs": [],
   "source": []
  },
  {
   "cell_type": "markdown",
   "metadata": {},
   "source": [
    "# import and start very basic models\n",
    "\n",
    "https://scikit-learn.org/stable/model_selection.html#model-selection"
   ]
  },
  {
   "cell_type": "code",
   "execution_count": 210,
   "metadata": {},
   "outputs": [],
   "source": [
    "X_train, X_test, y_train, y_test = train_test_split(X, y, test_size=0.33, random_state=0,stratify=y)"
   ]
  },
  {
   "cell_type": "code",
   "execution_count": 211,
   "metadata": {},
   "outputs": [
    {
     "data": {
      "text/plain": [
       "((574, 204), (283, 204), (574,), (283,))"
      ]
     },
     "execution_count": 211,
     "metadata": {},
     "output_type": "execute_result"
    }
   ],
   "source": [
    "X_train.shape, X_test.shape, y_train.shape, y_test.shape"
   ]
  },
  {
   "cell_type": "code",
   "execution_count": 212,
   "metadata": {},
   "outputs": [
    {
     "data": {
      "text/html": [
       "<div>\n",
       "<style scoped>\n",
       "    .dataframe tbody tr th:only-of-type {\n",
       "        vertical-align: middle;\n",
       "    }\n",
       "\n",
       "    .dataframe tbody tr th {\n",
       "        vertical-align: top;\n",
       "    }\n",
       "\n",
       "    .dataframe thead th {\n",
       "        text-align: right;\n",
       "    }\n",
       "</style>\n",
       "<table border=\"1\" class=\"dataframe\">\n",
       "  <thead>\n",
       "    <tr style=\"text-align: right;\">\n",
       "      <th></th>\n",
       "      <th>YWHAE|14-3-3_epsilon</th>\n",
       "      <th>EIF4EBP1|4E-BP1</th>\n",
       "      <th>EIF4EBP1|4E-BP1_pS65</th>\n",
       "      <th>EIF4EBP1|4E-BP1_pT37T46</th>\n",
       "      <th>TP53BP1|53BP1</th>\n",
       "      <th>ACACA ACACB|ACC_pS79</th>\n",
       "      <th>ACACA|ACC1</th>\n",
       "      <th>AKT1 AKT2 AKT3|Akt</th>\n",
       "      <th>AKT1 AKT2 AKT3|Akt_pS473</th>\n",
       "      <th>AKT1 AKT2 AKT3|Akt_pT308</th>\n",
       "      <th>...</th>\n",
       "      <th>PIK3CA</th>\n",
       "      <th>TP53</th>\n",
       "      <th>MUC16</th>\n",
       "      <th>GATA3</th>\n",
       "      <th>SEX_Female</th>\n",
       "      <th>SEX_Male</th>\n",
       "      <th>RACE_American Indian or Alaska Native</th>\n",
       "      <th>RACE_Asian</th>\n",
       "      <th>RACE_Black or African American</th>\n",
       "      <th>RACE_White</th>\n",
       "    </tr>\n",
       "  </thead>\n",
       "  <tbody>\n",
       "    <tr>\n",
       "      <th>150</th>\n",
       "      <td>-1.178983</td>\n",
       "      <td>-0.507607</td>\n",
       "      <td>-0.212041</td>\n",
       "      <td>0.625651</td>\n",
       "      <td>1.892425</td>\n",
       "      <td>2.622152</td>\n",
       "      <td>4.004482</td>\n",
       "      <td>1.337317</td>\n",
       "      <td>-0.806527</td>\n",
       "      <td>-0.004651</td>\n",
       "      <td>...</td>\n",
       "      <td>1.0</td>\n",
       "      <td>NaN</td>\n",
       "      <td>NaN</td>\n",
       "      <td>NaN</td>\n",
       "      <td>1</td>\n",
       "      <td>0</td>\n",
       "      <td>0</td>\n",
       "      <td>0</td>\n",
       "      <td>0</td>\n",
       "      <td>0</td>\n",
       "    </tr>\n",
       "    <tr>\n",
       "      <th>851</th>\n",
       "      <td>-0.802912</td>\n",
       "      <td>0.255848</td>\n",
       "      <td>-0.189160</td>\n",
       "      <td>0.486536</td>\n",
       "      <td>0.645925</td>\n",
       "      <td>1.571137</td>\n",
       "      <td>3.043406</td>\n",
       "      <td>0.750522</td>\n",
       "      <td>-0.449661</td>\n",
       "      <td>0.806812</td>\n",
       "      <td>...</td>\n",
       "      <td>NaN</td>\n",
       "      <td>NaN</td>\n",
       "      <td>NaN</td>\n",
       "      <td>NaN</td>\n",
       "      <td>1</td>\n",
       "      <td>0</td>\n",
       "      <td>0</td>\n",
       "      <td>0</td>\n",
       "      <td>1</td>\n",
       "      <td>0</td>\n",
       "    </tr>\n",
       "    <tr>\n",
       "      <th>539</th>\n",
       "      <td>-0.720642</td>\n",
       "      <td>0.840137</td>\n",
       "      <td>0.373890</td>\n",
       "      <td>1.356330</td>\n",
       "      <td>1.718673</td>\n",
       "      <td>1.299665</td>\n",
       "      <td>2.725830</td>\n",
       "      <td>1.784394</td>\n",
       "      <td>-0.702143</td>\n",
       "      <td>0.535066</td>\n",
       "      <td>...</td>\n",
       "      <td>NaN</td>\n",
       "      <td>1.0</td>\n",
       "      <td>NaN</td>\n",
       "      <td>NaN</td>\n",
       "      <td>1</td>\n",
       "      <td>0</td>\n",
       "      <td>0</td>\n",
       "      <td>1</td>\n",
       "      <td>0</td>\n",
       "      <td>0</td>\n",
       "    </tr>\n",
       "    <tr>\n",
       "      <th>489</th>\n",
       "      <td>-1.089242</td>\n",
       "      <td>1.252339</td>\n",
       "      <td>1.287894</td>\n",
       "      <td>2.450147</td>\n",
       "      <td>1.942491</td>\n",
       "      <td>-0.276160</td>\n",
       "      <td>1.990622</td>\n",
       "      <td>1.085963</td>\n",
       "      <td>-1.610095</td>\n",
       "      <td>-1.015112</td>\n",
       "      <td>...</td>\n",
       "      <td>NaN</td>\n",
       "      <td>NaN</td>\n",
       "      <td>10.0</td>\n",
       "      <td>NaN</td>\n",
       "      <td>1</td>\n",
       "      <td>0</td>\n",
       "      <td>0</td>\n",
       "      <td>0</td>\n",
       "      <td>1</td>\n",
       "      <td>0</td>\n",
       "    </tr>\n",
       "    <tr>\n",
       "      <th>790</th>\n",
       "      <td>-0.780049</td>\n",
       "      <td>0.320712</td>\n",
       "      <td>0.080044</td>\n",
       "      <td>0.989783</td>\n",
       "      <td>1.644170</td>\n",
       "      <td>0.456197</td>\n",
       "      <td>1.947961</td>\n",
       "      <td>1.465488</td>\n",
       "      <td>1.643903</td>\n",
       "      <td>1.840489</td>\n",
       "      <td>...</td>\n",
       "      <td>NaN</td>\n",
       "      <td>1.0</td>\n",
       "      <td>NaN</td>\n",
       "      <td>NaN</td>\n",
       "      <td>1</td>\n",
       "      <td>0</td>\n",
       "      <td>0</td>\n",
       "      <td>0</td>\n",
       "      <td>0</td>\n",
       "      <td>1</td>\n",
       "    </tr>\n",
       "    <tr>\n",
       "      <th>...</th>\n",
       "      <td>...</td>\n",
       "      <td>...</td>\n",
       "      <td>...</td>\n",
       "      <td>...</td>\n",
       "      <td>...</td>\n",
       "      <td>...</td>\n",
       "      <td>...</td>\n",
       "      <td>...</td>\n",
       "      <td>...</td>\n",
       "      <td>...</td>\n",
       "      <td>...</td>\n",
       "      <td>...</td>\n",
       "      <td>...</td>\n",
       "      <td>...</td>\n",
       "      <td>...</td>\n",
       "      <td>...</td>\n",
       "      <td>...</td>\n",
       "      <td>...</td>\n",
       "      <td>...</td>\n",
       "      <td>...</td>\n",
       "      <td>...</td>\n",
       "    </tr>\n",
       "    <tr>\n",
       "      <th>360</th>\n",
       "      <td>-0.431554</td>\n",
       "      <td>-0.042774</td>\n",
       "      <td>0.081933</td>\n",
       "      <td>1.059796</td>\n",
       "      <td>0.489124</td>\n",
       "      <td>-0.802506</td>\n",
       "      <td>0.335437</td>\n",
       "      <td>0.746394</td>\n",
       "      <td>-0.516668</td>\n",
       "      <td>-0.262878</td>\n",
       "      <td>...</td>\n",
       "      <td>1.0</td>\n",
       "      <td>1.0</td>\n",
       "      <td>1.0</td>\n",
       "      <td>NaN</td>\n",
       "      <td>1</td>\n",
       "      <td>0</td>\n",
       "      <td>0</td>\n",
       "      <td>0</td>\n",
       "      <td>0</td>\n",
       "      <td>1</td>\n",
       "    </tr>\n",
       "    <tr>\n",
       "      <th>763</th>\n",
       "      <td>-0.661550</td>\n",
       "      <td>0.558063</td>\n",
       "      <td>0.204040</td>\n",
       "      <td>-0.140724</td>\n",
       "      <td>2.731727</td>\n",
       "      <td>-1.059840</td>\n",
       "      <td>1.863751</td>\n",
       "      <td>1.967718</td>\n",
       "      <td>-1.975969</td>\n",
       "      <td>-1.198619</td>\n",
       "      <td>...</td>\n",
       "      <td>1.0</td>\n",
       "      <td>NaN</td>\n",
       "      <td>NaN</td>\n",
       "      <td>NaN</td>\n",
       "      <td>1</td>\n",
       "      <td>0</td>\n",
       "      <td>0</td>\n",
       "      <td>0</td>\n",
       "      <td>0</td>\n",
       "      <td>1</td>\n",
       "    </tr>\n",
       "    <tr>\n",
       "      <th>591</th>\n",
       "      <td>-0.863575</td>\n",
       "      <td>-0.064956</td>\n",
       "      <td>-0.219412</td>\n",
       "      <td>0.660969</td>\n",
       "      <td>1.552470</td>\n",
       "      <td>0.106208</td>\n",
       "      <td>0.976481</td>\n",
       "      <td>1.185879</td>\n",
       "      <td>-0.307333</td>\n",
       "      <td>0.236059</td>\n",
       "      <td>...</td>\n",
       "      <td>1.0</td>\n",
       "      <td>NaN</td>\n",
       "      <td>1.0</td>\n",
       "      <td>NaN</td>\n",
       "      <td>1</td>\n",
       "      <td>0</td>\n",
       "      <td>0</td>\n",
       "      <td>0</td>\n",
       "      <td>0</td>\n",
       "      <td>1</td>\n",
       "    </tr>\n",
       "    <tr>\n",
       "      <th>130</th>\n",
       "      <td>-1.118667</td>\n",
       "      <td>0.374482</td>\n",
       "      <td>0.317925</td>\n",
       "      <td>2.042632</td>\n",
       "      <td>2.135716</td>\n",
       "      <td>-1.091010</td>\n",
       "      <td>0.420230</td>\n",
       "      <td>1.549615</td>\n",
       "      <td>-0.231550</td>\n",
       "      <td>1.057671</td>\n",
       "      <td>...</td>\n",
       "      <td>NaN</td>\n",
       "      <td>1.0</td>\n",
       "      <td>NaN</td>\n",
       "      <td>NaN</td>\n",
       "      <td>1</td>\n",
       "      <td>0</td>\n",
       "      <td>0</td>\n",
       "      <td>0</td>\n",
       "      <td>1</td>\n",
       "      <td>0</td>\n",
       "    </tr>\n",
       "    <tr>\n",
       "      <th>271</th>\n",
       "      <td>-0.973321</td>\n",
       "      <td>-0.130825</td>\n",
       "      <td>-0.104126</td>\n",
       "      <td>0.000000</td>\n",
       "      <td>1.569360</td>\n",
       "      <td>-0.202488</td>\n",
       "      <td>1.425341</td>\n",
       "      <td>0.908740</td>\n",
       "      <td>-1.463385</td>\n",
       "      <td>-0.130509</td>\n",
       "      <td>...</td>\n",
       "      <td>NaN</td>\n",
       "      <td>1.0</td>\n",
       "      <td>1.0</td>\n",
       "      <td>NaN</td>\n",
       "      <td>1</td>\n",
       "      <td>0</td>\n",
       "      <td>0</td>\n",
       "      <td>0</td>\n",
       "      <td>0</td>\n",
       "      <td>1</td>\n",
       "    </tr>\n",
       "  </tbody>\n",
       "</table>\n",
       "<p>574 rows × 204 columns</p>\n",
       "</div>"
      ],
      "text/plain": [
       "     YWHAE|14-3-3_epsilon  EIF4EBP1|4E-BP1  EIF4EBP1|4E-BP1_pS65  \\\n",
       "150             -1.178983        -0.507607             -0.212041   \n",
       "851             -0.802912         0.255848             -0.189160   \n",
       "539             -0.720642         0.840137              0.373890   \n",
       "489             -1.089242         1.252339              1.287894   \n",
       "790             -0.780049         0.320712              0.080044   \n",
       "..                    ...              ...                   ...   \n",
       "360             -0.431554        -0.042774              0.081933   \n",
       "763             -0.661550         0.558063              0.204040   \n",
       "591             -0.863575        -0.064956             -0.219412   \n",
       "130             -1.118667         0.374482              0.317925   \n",
       "271             -0.973321        -0.130825             -0.104126   \n",
       "\n",
       "     EIF4EBP1|4E-BP1_pT37T46  TP53BP1|53BP1  ACACA ACACB|ACC_pS79  ACACA|ACC1  \\\n",
       "150                 0.625651       1.892425              2.622152    4.004482   \n",
       "851                 0.486536       0.645925              1.571137    3.043406   \n",
       "539                 1.356330       1.718673              1.299665    2.725830   \n",
       "489                 2.450147       1.942491             -0.276160    1.990622   \n",
       "790                 0.989783       1.644170              0.456197    1.947961   \n",
       "..                       ...            ...                   ...         ...   \n",
       "360                 1.059796       0.489124             -0.802506    0.335437   \n",
       "763                -0.140724       2.731727             -1.059840    1.863751   \n",
       "591                 0.660969       1.552470              0.106208    0.976481   \n",
       "130                 2.042632       2.135716             -1.091010    0.420230   \n",
       "271                 0.000000       1.569360             -0.202488    1.425341   \n",
       "\n",
       "     AKT1 AKT2 AKT3|Akt  AKT1 AKT2 AKT3|Akt_pS473  AKT1 AKT2 AKT3|Akt_pT308  \\\n",
       "150            1.337317                 -0.806527                 -0.004651   \n",
       "851            0.750522                 -0.449661                  0.806812   \n",
       "539            1.784394                 -0.702143                  0.535066   \n",
       "489            1.085963                 -1.610095                 -1.015112   \n",
       "790            1.465488                  1.643903                  1.840489   \n",
       "..                  ...                       ...                       ...   \n",
       "360            0.746394                 -0.516668                 -0.262878   \n",
       "763            1.967718                 -1.975969                 -1.198619   \n",
       "591            1.185879                 -0.307333                  0.236059   \n",
       "130            1.549615                 -0.231550                  1.057671   \n",
       "271            0.908740                 -1.463385                 -0.130509   \n",
       "\n",
       "     ...  PIK3CA  TP53  MUC16  GATA3  SEX_Female  SEX_Male  \\\n",
       "150  ...     1.0   NaN    NaN    NaN           1         0   \n",
       "851  ...     NaN   NaN    NaN    NaN           1         0   \n",
       "539  ...     NaN   1.0    NaN    NaN           1         0   \n",
       "489  ...     NaN   NaN   10.0    NaN           1         0   \n",
       "790  ...     NaN   1.0    NaN    NaN           1         0   \n",
       "..   ...     ...   ...    ...    ...         ...       ...   \n",
       "360  ...     1.0   1.0    1.0    NaN           1         0   \n",
       "763  ...     1.0   NaN    NaN    NaN           1         0   \n",
       "591  ...     1.0   NaN    1.0    NaN           1         0   \n",
       "130  ...     NaN   1.0    NaN    NaN           1         0   \n",
       "271  ...     NaN   1.0    1.0    NaN           1         0   \n",
       "\n",
       "     RACE_American Indian or Alaska Native  RACE_Asian  \\\n",
       "150                                      0           0   \n",
       "851                                      0           0   \n",
       "539                                      0           1   \n",
       "489                                      0           0   \n",
       "790                                      0           0   \n",
       "..                                     ...         ...   \n",
       "360                                      0           0   \n",
       "763                                      0           0   \n",
       "591                                      0           0   \n",
       "130                                      0           0   \n",
       "271                                      0           0   \n",
       "\n",
       "     RACE_Black or African American  RACE_White  \n",
       "150                               0           0  \n",
       "851                               1           0  \n",
       "539                               0           0  \n",
       "489                               1           0  \n",
       "790                               0           1  \n",
       "..                              ...         ...  \n",
       "360                               0           1  \n",
       "763                               0           1  \n",
       "591                               0           1  \n",
       "130                               1           0  \n",
       "271                               0           1  \n",
       "\n",
       "[574 rows x 204 columns]"
      ]
     },
     "execution_count": 212,
     "metadata": {},
     "output_type": "execute_result"
    }
   ],
   "source": [
    "X_train"
   ]
  },
  {
   "cell_type": "markdown",
   "metadata": {},
   "source": [
    "# Preprocessing\n",
    "\n",
    "- https://scikit-learn.org/stable/modules/preprocessing.html#preprocessing\n",
    "\n",
    "- Imputing missing_data  https://scikit-learn.org/stable/modules/preprocessing.html#imputation-of-missing-values\n",
    "- https://scikit-learn.org/stable/auto_examples/impute/plot_missing_values.html#sphx-glr-auto-examples-impute-plot-missing-values-py\n",
    "- scaling data\n",
    "- PCA (on mutations things like that) or combine them all into one... This would reduce interpretability?\n",
    "- SMOTE imbalanced dataset\n",
    "- polynomial features\n",
    "- enhanced variable selection? ENET or other automated option https://scikit-learn.org/stable/modules/feature_selection.html#feature-selection"
   ]
  },
  {
   "cell_type": "markdown",
   "metadata": {},
   "source": [
    "# Modeling\n",
    "\n",
    "- Decision Tree \n",
    "- KNN\n",
    "- logistic regression\n",
    "- gradient boosting\n",
    "- ensemble\n",
    "- others"
   ]
  },
  {
   "cell_type": "markdown",
   "metadata": {},
   "source": [
    "# Model Evaluation"
   ]
  },
  {
   "cell_type": "markdown",
   "metadata": {},
   "source": [
    "# PIPELINE DEFINE"
   ]
  },
  {
   "cell_type": "code",
   "execution_count": 213,
   "metadata": {},
   "outputs": [],
   "source": [
    "sensitivity = make_scorer(recall_score, pos_label=1)\n",
    "specificity = make_scorer(recall_score, pos_label=0)\n",
    "PPV = make_scorer(precision_score, pos_label=1)\n",
    "NPV = make_scorer(precision_score, pos_label=0)\n",
    "MCC = make_scorer(matthews_corrcoef)\n",
    "score_metrics = {'roc_auc':'roc_auc','accuracy':'accuracy','MCC':MCC,\n",
    "                 'bal_acc':'balanced_accuracy', 'sensitivity' : sensitivity,\n",
    "                 'specificity': specificity,'PPV': PPV, 'NPV' : NPV, 'f1':'f1'}"
   ]
  },
  {
   "cell_type": "code",
   "execution_count": 214,
   "metadata": {},
   "outputs": [],
   "source": [
    "# define pipeline\n",
    "\n",
    "\n",
    "imp = SimpleImputer(strategy=\"most_frequent\") #IterativeImputer(max_iter=100, random_state=0)\n",
    "#scale = StandardScaler()\n",
    "over = SMOTE(random_state=0)\n",
    "\n",
    "model = HistGradientBoostingClassifier()\n",
    "\n",
    "#defining steps in pipeline\n",
    "steps = [('impute',imp),('scale', scale), ('over', over), ('model', model)]\n",
    "pipeline = Pipeline(steps=steps, verbose=3)\n",
    "\n"
   ]
  },
  {
   "cell_type": "code",
   "execution_count": 215,
   "metadata": {},
   "outputs": [
    {
     "name": "stderr",
     "output_type": "stream",
     "text": [
      "[Parallel(n_jobs=5)]: Using backend LokyBackend with 5 concurrent workers.\n",
      "[Parallel(n_jobs=5)]: Done  10 out of  10 | elapsed:    7.0s finished\n"
     ]
    }
   ],
   "source": [
    "#Evaluate the model\n",
    "\n",
    "\n",
    "\n",
    "scores = cross_validate(pipeline, X_train, y_train, cv=10,\n",
    "                        scoring=score_metrics,\n",
    "                        return_train_score=False, \n",
    "                        verbose=1,n_jobs=5)"
   ]
  },
  {
   "cell_type": "code",
   "execution_count": 216,
   "metadata": {},
   "outputs": [],
   "source": [
    "score_df = pd.DataFrame(scores)"
   ]
  },
  {
   "cell_type": "code",
   "execution_count": 217,
   "metadata": {},
   "outputs": [
    {
     "data": {
      "text/html": [
       "<div>\n",
       "<style scoped>\n",
       "    .dataframe tbody tr th:only-of-type {\n",
       "        vertical-align: middle;\n",
       "    }\n",
       "\n",
       "    .dataframe tbody tr th {\n",
       "        vertical-align: top;\n",
       "    }\n",
       "\n",
       "    .dataframe thead th {\n",
       "        text-align: right;\n",
       "    }\n",
       "</style>\n",
       "<table border=\"1\" class=\"dataframe\">\n",
       "  <thead>\n",
       "    <tr style=\"text-align: right;\">\n",
       "      <th></th>\n",
       "      <th>fit_time</th>\n",
       "      <th>score_time</th>\n",
       "      <th>test_roc_auc</th>\n",
       "      <th>test_accuracy</th>\n",
       "      <th>test_MCC</th>\n",
       "      <th>test_bal_acc</th>\n",
       "      <th>test_sensitivity</th>\n",
       "      <th>test_specificity</th>\n",
       "      <th>test_PPV</th>\n",
       "      <th>test_NPV</th>\n",
       "      <th>test_f1</th>\n",
       "    </tr>\n",
       "  </thead>\n",
       "  <tbody>\n",
       "    <tr>\n",
       "      <th>count</th>\n",
       "      <td>10.000000</td>\n",
       "      <td>10.000000</td>\n",
       "      <td>10.000000</td>\n",
       "      <td>10.000000</td>\n",
       "      <td>10.000000</td>\n",
       "      <td>10.000000</td>\n",
       "      <td>10.00000</td>\n",
       "      <td>10.000000</td>\n",
       "      <td>10.000000</td>\n",
       "      <td>10.000000</td>\n",
       "      <td>10.000000</td>\n",
       "    </tr>\n",
       "    <tr>\n",
       "      <th>mean</th>\n",
       "      <td>3.462362</td>\n",
       "      <td>0.016456</td>\n",
       "      <td>0.567453</td>\n",
       "      <td>0.914670</td>\n",
       "      <td>0.119259</td>\n",
       "      <td>0.534009</td>\n",
       "      <td>0.08500</td>\n",
       "      <td>0.983019</td>\n",
       "      <td>0.275000</td>\n",
       "      <td>0.928736</td>\n",
       "      <td>0.124127</td>\n",
       "    </tr>\n",
       "    <tr>\n",
       "      <th>std</th>\n",
       "      <td>0.203800</td>\n",
       "      <td>0.001325</td>\n",
       "      <td>0.069817</td>\n",
       "      <td>0.018953</td>\n",
       "      <td>0.208163</td>\n",
       "      <td>0.055802</td>\n",
       "      <td>0.11068</td>\n",
       "      <td>0.018763</td>\n",
       "      <td>0.415832</td>\n",
       "      <td>0.007809</td>\n",
       "      <td>0.166016</td>\n",
       "    </tr>\n",
       "    <tr>\n",
       "      <th>min</th>\n",
       "      <td>3.251387</td>\n",
       "      <td>0.014000</td>\n",
       "      <td>0.476415</td>\n",
       "      <td>0.879310</td>\n",
       "      <td>-0.052387</td>\n",
       "      <td>0.481132</td>\n",
       "      <td>0.00000</td>\n",
       "      <td>0.943396</td>\n",
       "      <td>0.000000</td>\n",
       "      <td>0.913793</td>\n",
       "      <td>0.000000</td>\n",
       "    </tr>\n",
       "    <tr>\n",
       "      <th>25%</th>\n",
       "      <td>3.263632</td>\n",
       "      <td>0.016000</td>\n",
       "      <td>0.501179</td>\n",
       "      <td>0.912281</td>\n",
       "      <td>-0.036711</td>\n",
       "      <td>0.490566</td>\n",
       "      <td>0.00000</td>\n",
       "      <td>0.981132</td>\n",
       "      <td>0.000000</td>\n",
       "      <td>0.927597</td>\n",
       "      <td>0.000000</td>\n",
       "    </tr>\n",
       "    <tr>\n",
       "      <th>50%</th>\n",
       "      <td>3.463019</td>\n",
       "      <td>0.016500</td>\n",
       "      <td>0.573113</td>\n",
       "      <td>0.913037</td>\n",
       "      <td>0.000000</td>\n",
       "      <td>0.500000</td>\n",
       "      <td>0.00000</td>\n",
       "      <td>0.981132</td>\n",
       "      <td>0.000000</td>\n",
       "      <td>0.928571</td>\n",
       "      <td>0.000000</td>\n",
       "    </tr>\n",
       "    <tr>\n",
       "      <th>75%</th>\n",
       "      <td>3.650082</td>\n",
       "      <td>0.017135</td>\n",
       "      <td>0.611321</td>\n",
       "      <td>0.925817</td>\n",
       "      <td>0.248671</td>\n",
       "      <td>0.585849</td>\n",
       "      <td>0.20000</td>\n",
       "      <td>1.000000</td>\n",
       "      <td>0.437500</td>\n",
       "      <td>0.929511</td>\n",
       "      <td>0.269841</td>\n",
       "    </tr>\n",
       "    <tr>\n",
       "      <th>max</th>\n",
       "      <td>3.685332</td>\n",
       "      <td>0.018314</td>\n",
       "      <td>0.667925</td>\n",
       "      <td>0.947368</td>\n",
       "      <td>0.486423</td>\n",
       "      <td>0.625000</td>\n",
       "      <td>0.25000</td>\n",
       "      <td>1.000000</td>\n",
       "      <td>1.000000</td>\n",
       "      <td>0.946429</td>\n",
       "      <td>0.400000</td>\n",
       "    </tr>\n",
       "  </tbody>\n",
       "</table>\n",
       "</div>"
      ],
      "text/plain": [
       "        fit_time  score_time  test_roc_auc  test_accuracy   test_MCC  \\\n",
       "count  10.000000   10.000000     10.000000      10.000000  10.000000   \n",
       "mean    3.462362    0.016456      0.567453       0.914670   0.119259   \n",
       "std     0.203800    0.001325      0.069817       0.018953   0.208163   \n",
       "min     3.251387    0.014000      0.476415       0.879310  -0.052387   \n",
       "25%     3.263632    0.016000      0.501179       0.912281  -0.036711   \n",
       "50%     3.463019    0.016500      0.573113       0.913037   0.000000   \n",
       "75%     3.650082    0.017135      0.611321       0.925817   0.248671   \n",
       "max     3.685332    0.018314      0.667925       0.947368   0.486423   \n",
       "\n",
       "       test_bal_acc  test_sensitivity  test_specificity   test_PPV   test_NPV  \\\n",
       "count     10.000000          10.00000         10.000000  10.000000  10.000000   \n",
       "mean       0.534009           0.08500          0.983019   0.275000   0.928736   \n",
       "std        0.055802           0.11068          0.018763   0.415832   0.007809   \n",
       "min        0.481132           0.00000          0.943396   0.000000   0.913793   \n",
       "25%        0.490566           0.00000          0.981132   0.000000   0.927597   \n",
       "50%        0.500000           0.00000          0.981132   0.000000   0.928571   \n",
       "75%        0.585849           0.20000          1.000000   0.437500   0.929511   \n",
       "max        0.625000           0.25000          1.000000   1.000000   0.946429   \n",
       "\n",
       "         test_f1  \n",
       "count  10.000000  \n",
       "mean    0.124127  \n",
       "std     0.166016  \n",
       "min     0.000000  \n",
       "25%     0.000000  \n",
       "50%     0.000000  \n",
       "75%     0.269841  \n",
       "max     0.400000  "
      ]
     },
     "execution_count": 217,
     "metadata": {},
     "output_type": "execute_result"
    }
   ],
   "source": [
    "score_df.describe()"
   ]
  },
  {
   "cell_type": "code",
   "execution_count": 195,
   "metadata": {},
   "outputs": [],
   "source": [
    "#generate CI \n",
    "\n",
    "score_df_U95CI = score_df.describe().loc['mean'] + 1.96 * (score_df.describe().loc['std']/ np.sqrt(score_df.describe().loc['count']))\n",
    "score_df_L95CI = score_df.describe().loc['mean'] - 1.96 * (score_df.describe().loc['std']/ np.sqrt(score_df.describe().loc['count']))"
   ]
  },
  {
   "cell_type": "code",
   "execution_count": 196,
   "metadata": {},
   "outputs": [],
   "source": [
    "score_sum = dict()\n",
    "for item in score_df.describe().columns:\n",
    "    mean = round(score_df.describe()[item]['mean'],3)\n",
    "    L95 = round(score_df_U95CI[item],3)\n",
    "    U95 = round(score_df_L95CI[item],3)\n",
    "    score_sum[item]= ((f'{mean}({L95}-{U95})'))\n",
    "    \n",
    "score_summary = pd.Series(score_sum)\n"
   ]
  },
  {
   "cell_type": "code",
   "execution_count": 197,
   "metadata": {},
   "outputs": [
    {
     "data": {
      "text/plain": [
       "fit_time               3.668(3.805-3.531)\n",
       "score_time              0.02(0.022-0.018)\n",
       "test_roc_auc           0.542(0.619-0.464)\n",
       "test_accuracy          0.905(0.916-0.895)\n",
       "test_MCC            -0.032(-0.017--0.046)\n",
       "test_bal_acc           0.491(0.496-0.485)\n",
       "test_sensitivity             0.0(0.0-0.0)\n",
       "test_specificity        0.981(0.992-0.97)\n",
       "test_PPV                     0.0(0.0-0.0)\n",
       "test_NPV               0.921(0.925-0.917)\n",
       "test_f1                      0.0(0.0-0.0)\n",
       "dtype: object"
      ]
     },
     "execution_count": 197,
     "metadata": {},
     "output_type": "execute_result"
    }
   ],
   "source": [
    "score_summary"
   ]
  },
  {
   "cell_type": "code",
   "execution_count": null,
   "metadata": {},
   "outputs": [],
   "source": []
  },
  {
   "cell_type": "code",
   "execution_count": null,
   "metadata": {},
   "outputs": [],
   "source": []
  }
 ],
 "metadata": {
  "kernelspec": {
   "display_name": "Python 3 (ipykernel)",
   "language": "python",
   "name": "python3"
  },
  "language_info": {
   "codemirror_mode": {
    "name": "ipython",
    "version": 3
   },
   "file_extension": ".py",
   "mimetype": "text/x-python",
   "name": "python",
   "nbconvert_exporter": "python",
   "pygments_lexer": "ipython3",
   "version": "3.8.12"
  }
 },
 "nbformat": 4,
 "nbformat_minor": 4
}
