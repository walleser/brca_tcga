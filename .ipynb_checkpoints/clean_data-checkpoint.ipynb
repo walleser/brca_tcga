{
 "cells": [
  {
   "cell_type": "code",
   "execution_count": 24,
   "metadata": {},
   "outputs": [],
   "source": [
    "import pandas as pd\n",
    "import numpy as np\n",
    "\n",
    "#model selection\n",
    "from sklearn.pipeline import make_pipeline\n",
    "from sklearn.model_selection import train_test_split,RandomizedSearchCV,cross_validate\n",
    "\n",
    "#############\n",
    "#preprocessing\n",
    "\n",
    "#missing features\n",
    "\n",
    "\n",
    "#scaling\n",
    "from sklearn.preprocessing import StandardScaler\n",
    "\n",
    "#oversampling\n",
    "from imblearn.pipeline import Pipeline #can't use standard Pipeline with SMOTE\n",
    "from imblearn.over_sampling import SMOTE\n",
    "\n",
    "\n",
    "####################\n",
    "#models \n",
    "from sklearn.tree import DecisionTreeClassifier\n",
    "\n",
    "from sklearn.experimental import enable_hist_gradient_boosting  \n",
    "from sklearn.ensemble import HistGradientBoostingClassifier\n",
    "\n",
    "\n",
    "\n",
    "#model_evaluation\n",
    "from sklearn.metrics import make_scorer, recall_score, precision_score,matthews_corrcoef\n"
   ]
  },
  {
   "cell_type": "code",
   "execution_count": 25,
   "metadata": {},
   "outputs": [
    {
     "name": "stdout",
     "output_type": "stream",
     "text": [
      "(876, 364)\n"
     ]
    },
    {
     "data": {
      "text/html": [
       "<div>\n",
       "<style scoped>\n",
       "    .dataframe tbody tr th:only-of-type {\n",
       "        vertical-align: middle;\n",
       "    }\n",
       "\n",
       "    .dataframe tbody tr th {\n",
       "        vertical-align: top;\n",
       "    }\n",
       "\n",
       "    .dataframe thead th {\n",
       "        text-align: right;\n",
       "    }\n",
       "</style>\n",
       "<table border=\"1\" class=\"dataframe\">\n",
       "  <thead>\n",
       "    <tr style=\"text-align: right;\">\n",
       "      <th></th>\n",
       "      <th>#Patient Identifier</th>\n",
       "      <th>Sample Identifier</th>\n",
       "      <th>Oncotree Code</th>\n",
       "      <th>Cancer Type</th>\n",
       "      <th>Cancer Type Detailed</th>\n",
       "      <th>Tumor Type</th>\n",
       "      <th>Neoplasm Histologic Grade</th>\n",
       "      <th>Tissue Prospective Collection Indicator</th>\n",
       "      <th>Tissue Retrospective Collection Indicator</th>\n",
       "      <th>Tissue Source Site</th>\n",
       "      <th>...</th>\n",
       "      <th>22_mutcount</th>\n",
       "      <th>3_mutcount</th>\n",
       "      <th>4_mutcount</th>\n",
       "      <th>5_mutcount</th>\n",
       "      <th>6_mutcount</th>\n",
       "      <th>7_mutcount</th>\n",
       "      <th>8_mutcount</th>\n",
       "      <th>9_mutcount</th>\n",
       "      <th>X_mutcount</th>\n",
       "      <th>Y_mutcount</th>\n",
       "    </tr>\n",
       "  </thead>\n",
       "  <tbody>\n",
       "    <tr>\n",
       "      <th>0</th>\n",
       "      <td>TCGA-3C-AALI</td>\n",
       "      <td>TCGA-3C-AALI-01</td>\n",
       "      <td>IDC</td>\n",
       "      <td>Invasive Breast Carcinoma</td>\n",
       "      <td>Breast Invasive Ductal Carcinoma</td>\n",
       "      <td>Infiltrating Ductal Carcinoma</td>\n",
       "      <td>NaN</td>\n",
       "      <td>No</td>\n",
       "      <td>Yes</td>\n",
       "      <td>3C</td>\n",
       "      <td>...</td>\n",
       "      <td>9.0</td>\n",
       "      <td>54.0</td>\n",
       "      <td>29.0</td>\n",
       "      <td>32.0</td>\n",
       "      <td>38.0</td>\n",
       "      <td>41.0</td>\n",
       "      <td>32.0</td>\n",
       "      <td>22.0</td>\n",
       "      <td>29.0</td>\n",
       "      <td>NaN</td>\n",
       "    </tr>\n",
       "    <tr>\n",
       "      <th>1</th>\n",
       "      <td>TCGA-3C-AALK</td>\n",
       "      <td>TCGA-3C-AALK-01</td>\n",
       "      <td>IDC</td>\n",
       "      <td>Invasive Breast Carcinoma</td>\n",
       "      <td>Breast Invasive Ductal Carcinoma</td>\n",
       "      <td>Infiltrating Ductal Carcinoma</td>\n",
       "      <td>NaN</td>\n",
       "      <td>No</td>\n",
       "      <td>Yes</td>\n",
       "      <td>3C</td>\n",
       "      <td>...</td>\n",
       "      <td>3.0</td>\n",
       "      <td>5.0</td>\n",
       "      <td>2.0</td>\n",
       "      <td>9.0</td>\n",
       "      <td>5.0</td>\n",
       "      <td>2.0</td>\n",
       "      <td>NaN</td>\n",
       "      <td>4.0</td>\n",
       "      <td>4.0</td>\n",
       "      <td>NaN</td>\n",
       "    </tr>\n",
       "    <tr>\n",
       "      <th>2</th>\n",
       "      <td>TCGA-4H-AAAK</td>\n",
       "      <td>TCGA-4H-AAAK-01</td>\n",
       "      <td>ILC</td>\n",
       "      <td>Invasive Breast Carcinoma</td>\n",
       "      <td>Breast Invasive Lobular Carcinoma</td>\n",
       "      <td>Infiltrating Lobular Carcinoma</td>\n",
       "      <td>NaN</td>\n",
       "      <td>Yes</td>\n",
       "      <td>No</td>\n",
       "      <td>4H</td>\n",
       "      <td>...</td>\n",
       "      <td>NaN</td>\n",
       "      <td>1.0</td>\n",
       "      <td>3.0</td>\n",
       "      <td>2.0</td>\n",
       "      <td>NaN</td>\n",
       "      <td>2.0</td>\n",
       "      <td>2.0</td>\n",
       "      <td>4.0</td>\n",
       "      <td>3.0</td>\n",
       "      <td>NaN</td>\n",
       "    </tr>\n",
       "    <tr>\n",
       "      <th>3</th>\n",
       "      <td>TCGA-5T-A9QA</td>\n",
       "      <td>TCGA-5T-A9QA-01</td>\n",
       "      <td>BRCNOS</td>\n",
       "      <td>Invasive Breast Carcinoma</td>\n",
       "      <td>Breast Invasive Carcinoma (NOS)</td>\n",
       "      <td>Other</td>\n",
       "      <td>NaN</td>\n",
       "      <td>Yes</td>\n",
       "      <td>No</td>\n",
       "      <td>5T</td>\n",
       "      <td>...</td>\n",
       "      <td>4.0</td>\n",
       "      <td>8.0</td>\n",
       "      <td>8.0</td>\n",
       "      <td>NaN</td>\n",
       "      <td>3.0</td>\n",
       "      <td>4.0</td>\n",
       "      <td>2.0</td>\n",
       "      <td>2.0</td>\n",
       "      <td>10.0</td>\n",
       "      <td>NaN</td>\n",
       "    </tr>\n",
       "    <tr>\n",
       "      <th>4</th>\n",
       "      <td>TCGA-A1-A0SF</td>\n",
       "      <td>TCGA-A1-A0SF-01</td>\n",
       "      <td>IDC</td>\n",
       "      <td>Invasive Breast Carcinoma</td>\n",
       "      <td>Breast Invasive Ductal Carcinoma</td>\n",
       "      <td>Infiltrating Ductal Carcinoma</td>\n",
       "      <td>NaN</td>\n",
       "      <td>No</td>\n",
       "      <td>Yes</td>\n",
       "      <td>A1</td>\n",
       "      <td>...</td>\n",
       "      <td>1.0</td>\n",
       "      <td>3.0</td>\n",
       "      <td>6.0</td>\n",
       "      <td>3.0</td>\n",
       "      <td>6.0</td>\n",
       "      <td>6.0</td>\n",
       "      <td>1.0</td>\n",
       "      <td>2.0</td>\n",
       "      <td>1.0</td>\n",
       "      <td>NaN</td>\n",
       "    </tr>\n",
       "  </tbody>\n",
       "</table>\n",
       "<p>5 rows × 364 columns</p>\n",
       "</div>"
      ],
      "text/plain": [
       "  #Patient Identifier Sample Identifier Oncotree Code  \\\n",
       "0        TCGA-3C-AALI   TCGA-3C-AALI-01           IDC   \n",
       "1        TCGA-3C-AALK   TCGA-3C-AALK-01           IDC   \n",
       "2        TCGA-4H-AAAK   TCGA-4H-AAAK-01           ILC   \n",
       "3        TCGA-5T-A9QA   TCGA-5T-A9QA-01        BRCNOS   \n",
       "4        TCGA-A1-A0SF   TCGA-A1-A0SF-01           IDC   \n",
       "\n",
       "                 Cancer Type               Cancer Type Detailed  \\\n",
       "0  Invasive Breast Carcinoma   Breast Invasive Ductal Carcinoma   \n",
       "1  Invasive Breast Carcinoma   Breast Invasive Ductal Carcinoma   \n",
       "2  Invasive Breast Carcinoma  Breast Invasive Lobular Carcinoma   \n",
       "3  Invasive Breast Carcinoma    Breast Invasive Carcinoma (NOS)   \n",
       "4  Invasive Breast Carcinoma   Breast Invasive Ductal Carcinoma   \n",
       "\n",
       "                       Tumor Type  Neoplasm Histologic Grade  \\\n",
       "0   Infiltrating Ductal Carcinoma                        NaN   \n",
       "1   Infiltrating Ductal Carcinoma                        NaN   \n",
       "2  Infiltrating Lobular Carcinoma                        NaN   \n",
       "3                           Other                        NaN   \n",
       "4   Infiltrating Ductal Carcinoma                        NaN   \n",
       "\n",
       "  Tissue Prospective Collection Indicator  \\\n",
       "0                                      No   \n",
       "1                                      No   \n",
       "2                                     Yes   \n",
       "3                                     Yes   \n",
       "4                                      No   \n",
       "\n",
       "  Tissue Retrospective Collection Indicator Tissue Source Site  ...  \\\n",
       "0                                       Yes                 3C  ...   \n",
       "1                                       Yes                 3C  ...   \n",
       "2                                        No                 4H  ...   \n",
       "3                                        No                 5T  ...   \n",
       "4                                       Yes                 A1  ...   \n",
       "\n",
       "  22_mutcount  3_mutcount 4_mutcount  5_mutcount  6_mutcount 7_mutcount  \\\n",
       "0         9.0        54.0       29.0        32.0        38.0       41.0   \n",
       "1         3.0         5.0        2.0         9.0         5.0        2.0   \n",
       "2         NaN         1.0        3.0         2.0         NaN        2.0   \n",
       "3         4.0         8.0        8.0         NaN         3.0        4.0   \n",
       "4         1.0         3.0        6.0         3.0         6.0        6.0   \n",
       "\n",
       "   8_mutcount 9_mutcount  X_mutcount  Y_mutcount  \n",
       "0        32.0       22.0        29.0         NaN  \n",
       "1         NaN        4.0         4.0         NaN  \n",
       "2         2.0        4.0         3.0         NaN  \n",
       "3         2.0        2.0        10.0         NaN  \n",
       "4         1.0        2.0         1.0         NaN  \n",
       "\n",
       "[5 rows x 364 columns]"
      ]
     },
     "execution_count": 25,
     "metadata": {},
     "output_type": "execute_result"
    }
   ],
   "source": [
    "df = pd.read_csv(\"brca_merged_data.csv\",index_col= 0)\n",
    "print(df.shape)\n",
    "df.head()"
   ]
  },
  {
   "cell_type": "code",
   "execution_count": 23,
   "metadata": {},
   "outputs": [
    {
     "data": {
      "text/plain": [
       "CTNNA1|alpha-Catenin                          876\n",
       "NKX2-1|TTF1                                   876\n",
       "CASP3|Caspase-3                               798\n",
       "CASP9|Caspase-9                               798\n",
       "PARP1|PARP1                                   798\n",
       "COPS5|JAB1                                    798\n",
       "PATIENT_ID                                      0\n",
       "SUBTYPE                                        79\n",
       "CANCER_TYPE_ACRONYM                             0\n",
       "OTHER_PATIENT_ID                                0\n",
       "AGE                                             0\n",
       "SEX                                             0\n",
       "AJCC_PATHOLOGIC_TUMOR_STAGE                     4\n",
       "AJCC_STAGING_EDITION                          117\n",
       "DAYS_LAST_FOLLOWUP                             85\n",
       "DAYS_TO_BIRTH                                  14\n",
       "DAYS_TO_INITIAL_PATHOLOGIC_DIAGNOSIS            0\n",
       "ETHNICITY                                     125\n",
       "FORM_COMPLETION_DATE                            0\n",
       "HISTORY_NEOADJUVANT_TRTYN                       0\n",
       "ICD_10                                          0\n",
       "ICD_O_3_HISTOLOGY                               0\n",
       "ICD_O_3_SITE                                    0\n",
       "INFORMED_CONSENT_VERIFIED                       0\n",
       "NEW_TUMOR_EVENT_AFTER_INITIAL_TREATMENT       158\n",
       "PATH_M_STAGE                                    0\n",
       "PATH_N_STAGE                                    0\n",
       "PATH_T_STAGE                                    0\n",
       "PERSON_NEOPLASM_CANCER_STATUS                 110\n",
       "PRIMARY_LYMPH_NODE_PRESENTATION_ASSESSMENT    277\n",
       "PRIOR_DX                                        1\n",
       "RACE                                           57\n",
       "RADIATION_THERAPY                              78\n",
       "WEIGHT                                        876\n",
       "CENTER                                          0\n",
       "IN_PANCANPATHWAYS_FREEZE                        0\n",
       "OS_STATUS                                       0\n",
       "OS_MONTHS                                       0\n",
       "DSS_STATUS                                     19\n",
       "DSS_MONTHS                                      1\n",
       "DFS_STATUS                                    121\n",
       "DFS_MONTHS                                    121\n",
       "PFS_STATUS                                      1\n",
       "PFS_MONTHS                                      1\n",
       "TTN                                           691\n",
       "PIK3CA                                        598\n",
       "TP53                                          584\n",
       "MUC16                                         764\n",
       "MAP3K1                                        801\n",
       "CDH1                                          778\n",
       "dtype: int64"
      ]
     },
     "execution_count": 23,
     "metadata": {},
     "output_type": "execute_result"
    }
   ],
   "source": [
    "df.isna().sum()[210:260]"
   ]
  },
  {
   "cell_type": "code",
   "execution_count": 9,
   "metadata": {},
   "outputs": [
    {
     "name": "stdout",
     "output_type": "stream",
     "text": [
      "Index(['Unnamed: 0', '#Patient Identifier', 'Sample Identifier',\n",
      "       'Oncotree Code', 'Cancer Type', 'Cancer Type Detailed', 'Tumor Type',\n",
      "       'Neoplasm Histologic Grade', 'Tissue Prospective Collection Indicator',\n",
      "       'Tissue Retrospective Collection Indicator',\n",
      "       ...\n",
      "       '22_mutcount', '3_mutcount', '4_mutcount', '5_mutcount', '6_mutcount',\n",
      "       '7_mutcount', '8_mutcount', '9_mutcount', 'X_mutcount', 'Y_mutcount'],\n",
      "      dtype='object', length=359)\n"
     ]
    }
   ],
   "source": [
    "cols = df.columns\n",
    "\n",
    "print(cols)"
   ]
  },
  {
   "cell_type": "code",
   "execution_count": 11,
   "metadata": {},
   "outputs": [
    {
     "data": {
      "text/plain": [
       "<AxesSubplot:>"
      ]
     },
     "execution_count": 11,
     "metadata": {},
     "output_type": "execute_result"
    },
    {
     "data": {
      "image/png": "[encoded data removed]",
      "text/plain": [
       "<Figure size 432x288 with 1 Axes>"
      ]
     },
     "metadata": {
      "needs_background": "light"
     },
     "output_type": "display_data"
    }
   ],
   "source": [
    "df['OS_MONTHS'].hist()"
   ]
  },
  {
   "cell_type": "code",
   "execution_count": 15,
   "metadata": {},
   "outputs": [
    {
     "data": {
      "text/plain": [
       "0      131.669790\n",
       "1       47.604958\n",
       "2       11.440971\n",
       "3        9.961535\n",
       "4       48.098103\n",
       "          ...    \n",
       "871     11.408094\n",
       "872     52.963803\n",
       "873     15.353256\n",
       "874      5.950620\n",
       "875    107.045402\n",
       "Name: PFS_MONTHS, Length: 876, dtype: float64"
      ]
     },
     "execution_count": 15,
     "metadata": {},
     "output_type": "execute_result"
    }
   ],
   "source": [
    "df['PFS_MONTHS']#.hist(by=\"OS_STATUS\")"
   ]
  },
  {
   "cell_type": "code",
   "execution_count": 13,
   "metadata": {},
   "outputs": [
    {
     "data": {
      "text/plain": [
       "<AxesSubplot:>"
      ]
     },
     "execution_count": 13,
     "metadata": {},
     "output_type": "execute_result"
    },
    {
     "data": {
      "image/png": "[encoded data removed]",
      "text/plain": [
       "<Figure size 432x288 with 1 Axes>"
      ]
     },
     "metadata": {
      "needs_background": "light"
     },
     "output_type": "display_data"
    }
   ],
   "source": [
    "df['DFS_MONTHS'].hist()"
   ]
  },
  {
   "cell_type": "markdown",
   "metadata": {},
   "source": [
    "# Make list of subset of columns that will need to be modeled"
   ]
  },
  {
   "cell_type": "code",
   "execution_count": 264,
   "metadata": {},
   "outputs": [],
   "source": [
    "model_cols = list(df.columns[18:209])"
   ]
  },
  {
   "cell_type": "code",
   "execution_count": 265,
   "metadata": {},
   "outputs": [
    {
     "data": {
      "text/plain": [
       "['YWHAE|14-3-3_epsilon',\n",
       " 'EIF4EBP1|4E-BP1',\n",
       " 'EIF4EBP1|4E-BP1_pS65',\n",
       " 'EIF4EBP1|4E-BP1_pT37T46',\n",
       " 'TP53BP1|53BP1',\n",
       " 'ACACA ACACB|ACC_pS79',\n",
       " 'ACACA|ACC1',\n",
       " 'AKT1 AKT2 AKT3|Akt',\n",
       " 'AKT1 AKT2 AKT3|Akt_pS473',\n",
       " 'AKT1 AKT2 AKT3|Akt_pT308',\n",
       " 'PRKAA1|AMPK_alpha',\n",
       " 'PRKAA1|AMPK_pT172',\n",
       " 'AR|AR',\n",
       " 'ASNS|ASNS',\n",
       " 'ATM|ATM',\n",
       " 'BAK1|Bak',\n",
       " 'BAX|Bax',\n",
       " 'BCL2|Bcl-2',\n",
       " 'BCL2L1|Bcl-xL',\n",
       " 'BECN1|Beclin',\n",
       " 'CTNNB1|beta-Catenin',\n",
       " 'BID|Bid',\n",
       " 'BCL2L11|Bim',\n",
       " 'JUN|c-Jun_pS73',\n",
       " 'KIT|c-Kit',\n",
       " 'MET|c-Met_pY1235',\n",
       " 'MYC|c-Myc',\n",
       " 'RAF1|C-Raf',\n",
       " 'RAF1|C-Raf_pS338',\n",
       " 'CASP7|Caspase-7_cleavedD198',\n",
       " 'CAV1|Caveolin-1',\n",
       " 'PECAM1|CD31',\n",
       " 'ITGA2|CD49b',\n",
       " 'CDK1|CDK1',\n",
       " 'CHEK1|Chk1',\n",
       " 'CHEK1|Chk1_pS345',\n",
       " 'CHEK2|Chk2',\n",
       " 'CHEK2|Chk2_pT68',\n",
       " 'BIRC2 |cIAP',\n",
       " 'CLDN7|Claudin-7',\n",
       " 'COL6A1|Collagen_VI',\n",
       " 'CCNB1|Cyclin_B1',\n",
       " 'CCND1|Cyclin_D1',\n",
       " 'CCNE1|Cyclin_E1',\n",
       " 'PARK7|DJ-1',\n",
       " 'DVL3|Dvl3',\n",
       " 'CDH1|E-Cadherin',\n",
       " 'EEF2|eEF2',\n",
       " 'EEF2K|eEF2K',\n",
       " 'EGFR|EGFR',\n",
       " 'EGFR|EGFR_pY1068',\n",
       " 'EGFR|EGFR_pY1173',\n",
       " 'EIF4E|eIF4E',\n",
       " 'ESR1|ER-alpha',\n",
       " 'ESR1|ER-alpha_pS118',\n",
       " 'MAPK1|ERK2',\n",
       " 'FN1|Fibronectin',\n",
       " 'FOXO3|FOXO3a',\n",
       " 'GAB2|GAB2',\n",
       " 'GATA3|GATA3',\n",
       " 'GSK3A GSK3B|GSK3-alpha-beta',\n",
       " 'GSK3A GSK3B|GSK3-alpha-beta_pS21_S9',\n",
       " 'ERBB2|HER2',\n",
       " 'ERBB2|HER2_pY1248',\n",
       " 'ERBB3|HER3',\n",
       " 'ERBB3|HER3_pY1298',\n",
       " 'HSPA1A|HSP70',\n",
       " 'IGFBP2|IGFBP2',\n",
       " 'INPP4B|INPP4B',\n",
       " 'IRS1|IRS1',\n",
       " 'MAPK8|JNK_pT183_Y185',\n",
       " 'MAPK9|JNK2',\n",
       " 'XRCC5|Ku80',\n",
       " 'LCK|Lck',\n",
       " 'STK11|LKB1',\n",
       " 'MAPK1 MAPK3|MAPK_pT202_Y204',\n",
       " 'MAP2K1|MEK1',\n",
       " 'MAP2K1|MEK1_pS217_S221',\n",
       " 'ERRFI1|MIG-6',\n",
       " 'MRE11A|Mre11',\n",
       " 'MTOR|mTOR',\n",
       " 'MTOR|mTOR_pS2448',\n",
       " 'CDH2|N-Cadherin',\n",
       " 'NFKB1|NF-kB-p65_pS536',\n",
       " 'NF2|NF2',\n",
       " 'NOTCH1|Notch1',\n",
       " 'CDH3|P-Cadherin',\n",
       " 'CDKN1B|p27',\n",
       " 'CDKN1B|p27_pT157',\n",
       " 'MAPK14|p38_MAPK',\n",
       " 'MAPK14|p38_pT180_Y182',\n",
       " 'TP53|p53',\n",
       " 'RPS6KB1|p70S6K',\n",
       " 'RPS6KB1|p70S6K_pT389',\n",
       " 'RPS6KA1|p90RSK_pT359_S363',\n",
       " 'SERPINE1|PAI-1',\n",
       " 'PXN|Paxillin',\n",
       " 'PCNA|PCNA',\n",
       " 'PDK1|PDK1_pS241',\n",
       " 'PEA15|PEA15',\n",
       " 'PIK3CA |PI3K-p110-alpha',\n",
       " 'PRKCA |PKC-alpha',\n",
       " 'PRKCA |PKC-alpha_pS657',\n",
       " 'PRKCD|PKC-delta_pS664',\n",
       " 'PGR|PR',\n",
       " 'AKT1S1|PRAS40_pT246',\n",
       " 'PTEN|PTEN',\n",
       " 'RAD50|Rad50',\n",
       " 'RAD51|Rad51',\n",
       " 'RB1|Rb_pS807_S811',\n",
       " 'RPS6|S6',\n",
       " 'RPS6|S6_pS235_S236',\n",
       " 'RPS6|S6_pS240_S244',\n",
       " 'SHC1|Shc_pY317',\n",
       " 'SMAD1|Smad1',\n",
       " 'SMAD3|Smad3',\n",
       " 'SMAD4|Smad4',\n",
       " 'SRC|Src',\n",
       " 'SRC|Src_pY416',\n",
       " 'SRC|Src_pY527',\n",
       " 'STAT3|STAT3_pY705',\n",
       " 'STAT5A|STAT5-alpha',\n",
       " 'STMN1|Stathmin',\n",
       " 'SYK|Syk',\n",
       " 'TSC2|Tuberin',\n",
       " 'KDR|VEGFR2',\n",
       " 'XRCC1|XRCC1',\n",
       " 'YAP1|YAP',\n",
       " 'YAP1|YAP_pS127',\n",
       " 'YBX1|YB-1',\n",
       " 'YBX1|YB-1_pS102',\n",
       " 'EIF4EBP1|4E-BP1_pT70',\n",
       " 'ARAF|A-Raf_pS299',\n",
       " 'ANXA7|Annexin_VII',\n",
       " 'ARID1A|ARID1A',\n",
       " 'BRAF|B-Raf',\n",
       " 'BAD|Bad_pS112',\n",
       " 'BAP1|Bap1-c-4',\n",
       " 'BRCA2|BRCA2',\n",
       " 'MS4A1|CD20',\n",
       " 'CCNE2|Cyclin_E2',\n",
       " 'ETS1|ETS-1',\n",
       " 'EIF4G1|eIF4G',\n",
       " 'FASN|FASN',\n",
       " 'FOXO3|FOXO3a_pS318_S321',\n",
       " 'FOXM1|FoxM1',\n",
       " 'G6PD|G6PD',\n",
       " 'GAPDH|GAPDH',\n",
       " 'GSK3A GSK3B|GSK3_pS9',\n",
       " 'NRG1|Heregulin',\n",
       " 'MYH11|MYH11',\n",
       " 'MYH9|Myosin-IIa-pS1943',\n",
       " 'NRAS|N-Ras',\n",
       " 'NDRG1|NDRG1_pT346',\n",
       " 'CDKN1A|p21',\n",
       " 'CDKN1B|p27_pT198',\n",
       " 'RPS6KA1|p90RSK',\n",
       " 'PDCD4|PDCD4',\n",
       " 'PDK1|PDK1',\n",
       " 'PEA15|PEA15_pS116',\n",
       " 'PIK3R1 PIK3R2|PI3K-p85',\n",
       " 'PRKCB|PKC-pan_BetaII_pS660',\n",
       " 'PRDX1|PRDX1',\n",
       " 'RAB11A RAB11B|Rab11',\n",
       " 'RAB25|Rab25',\n",
       " 'RPTOR|Raptor',\n",
       " 'RBM15|RBM15',\n",
       " 'RICTOR|Rictor',\n",
       " 'RICTOR|Rictor_pT1135',\n",
       " 'SCD1|SCD1',\n",
       " 'SRSF1|SF2',\n",
       " 'WWTR1|TAZ',\n",
       " 'TIGAR|TIGAR',\n",
       " 'TGM2|Transglutaminase',\n",
       " 'TFRC|TFRC',\n",
       " 'TSC1|TSC1',\n",
       " 'TSC2|Tuberin_pT1462',\n",
       " 'VHL|VHL',\n",
       " 'XBP1|XBP1',\n",
       " 'TUBA1B|Acetyl-a-Tubulin-Lys40',\n",
       " 'SQSTM1|p62-LCK-ligand',\n",
       " 'YWHAB|14-3-3_beta',\n",
       " 'YWHAZ|14-3-3_zeta',\n",
       " 'ACVRL1|ACVRL1',\n",
       " 'DIRAS3|DIRAS3',\n",
       " 'ANXA1|Annexin-1',\n",
       " 'PREX1|PREX1',\n",
       " 'ERCC1|ERCC1',\n",
       " 'MSH2|MSH2',\n",
       " 'MSH6|MSH6',\n",
       " 'DIABLO|Smac']"
      ]
     },
     "execution_count": 265,
     "metadata": {},
     "output_type": "execute_result"
    }
   ],
   "source": [
    "model_cols"
   ]
  },
  {
   "cell_type": "code",
   "execution_count": 48,
   "metadata": {},
   "outputs": [
    {
     "data": {
      "text/plain": [
       "-0.442846    4\n",
       " 0.691019    3\n",
       " 0.000000    2\n",
       "-0.653635    1\n",
       " 0.057043    1\n",
       "            ..\n",
       " 0.297876    1\n",
       " 0.654258    1\n",
       "-0.354947    1\n",
       "-1.139484    1\n",
       "-0.391322    1\n",
       "Name: RB1|Rb_pS807_S811, Length: 870, dtype: int64"
      ]
     },
     "execution_count": 48,
     "metadata": {},
     "output_type": "execute_result"
    }
   ],
   "source": [
    "df.iloc[:,127].value_counts()"
   ]
  },
  {
   "cell_type": "code",
   "execution_count": null,
   "metadata": {},
   "outputs": [],
   "source": [
    "unsure = [9]"
   ]
  },
  {
   "cell_type": "markdown",
   "metadata": {},
   "source": [
    "## Questions\n",
    "\n"
   ]
  },
  {
   "cell_type": "code",
   "execution_count": null,
   "metadata": {},
   "outputs": [],
   "source": [
    "#TMB is total number of mutations\n",
    "\n",
    "keep_idx = [2,9,11,13,14,16]\n",
    "keep = [\"Oncotree Code\",\"Tissue Source Site\", \"Aneuploidy Score\",\"MSI MANTIS Score\",\"TMB (nonsynonymous)\"]\n",
    "\n",
    "#keep all cols between 18:216"
   ]
  },
  {
   "cell_type": "code",
   "execution_count": null,
   "metadata": {},
   "outputs": [],
   "source": [
    "cols_to_drop = [0,1,3,4,5,6,7,8,10,12,15,17]"
   ]
  },
  {
   "cell_type": "code",
   "execution_count": 31,
   "metadata": {},
   "outputs": [
    {
     "data": {
      "text/plain": [
       "0     NaN\n",
       "1     NaN\n",
       "2     NaN\n",
       "3     NaN\n",
       "4     NaN\n",
       "       ..\n",
       "871   NaN\n",
       "872   NaN\n",
       "873   NaN\n",
       "874   NaN\n",
       "875   NaN\n",
       "Name: Neoplasm Histologic Grade, Length: 876, dtype: float64"
      ]
     },
     "execution_count": 31,
     "metadata": {},
     "output_type": "execute_result"
    }
   ],
   "source": [
    "df.iloc[:,6]"
   ]
  },
  {
   "cell_type": "code",
   "execution_count": 83,
   "metadata": {},
   "outputs": [
    {
     "data": {
      "text/html": [
       "<div>\n",
       "<style scoped>\n",
       "    .dataframe tbody tr th:only-of-type {\n",
       "        vertical-align: middle;\n",
       "    }\n",
       "\n",
       "    .dataframe tbody tr th {\n",
       "        vertical-align: top;\n",
       "    }\n",
       "\n",
       "    .dataframe thead th {\n",
       "        text-align: right;\n",
       "    }\n",
       "</style>\n",
       "<table border=\"1\" class=\"dataframe\">\n",
       "  <thead>\n",
       "    <tr style=\"text-align: right;\">\n",
       "      <th></th>\n",
       "      <th>DFS_STATUS</th>\n",
       "      <th>DFS_MONTHS</th>\n",
       "      <th>PFS_STATUS</th>\n",
       "      <th>PFS_MONTHS</th>\n",
       "      <th>TTN</th>\n",
       "      <th>PIK3CA</th>\n",
       "      <th>TP53</th>\n",
       "      <th>MUC16</th>\n",
       "      <th>MAP3K1</th>\n",
       "      <th>CDH1</th>\n",
       "    </tr>\n",
       "  </thead>\n",
       "  <tbody>\n",
       "    <tr>\n",
       "      <th>0</th>\n",
       "      <td>0:DiseaseFree</td>\n",
       "      <td>131.669790</td>\n",
       "      <td>0:CENSORED</td>\n",
       "      <td>131.669790</td>\n",
       "      <td>2.0</td>\n",
       "      <td>NaN</td>\n",
       "      <td>1.0</td>\n",
       "      <td>2.0</td>\n",
       "      <td>NaN</td>\n",
       "      <td>NaN</td>\n",
       "    </tr>\n",
       "    <tr>\n",
       "      <th>1</th>\n",
       "      <td>NaN</td>\n",
       "      <td>NaN</td>\n",
       "      <td>0:CENSORED</td>\n",
       "      <td>47.604958</td>\n",
       "      <td>NaN</td>\n",
       "      <td>2.0</td>\n",
       "      <td>NaN</td>\n",
       "      <td>NaN</td>\n",
       "      <td>NaN</td>\n",
       "      <td>NaN</td>\n",
       "    </tr>\n",
       "    <tr>\n",
       "      <th>2</th>\n",
       "      <td>0:DiseaseFree</td>\n",
       "      <td>11.440971</td>\n",
       "      <td>0:CENSORED</td>\n",
       "      <td>11.440971</td>\n",
       "      <td>NaN</td>\n",
       "      <td>NaN</td>\n",
       "      <td>NaN</td>\n",
       "      <td>NaN</td>\n",
       "      <td>NaN</td>\n",
       "      <td>1.0</td>\n",
       "    </tr>\n",
       "    <tr>\n",
       "      <th>3</th>\n",
       "      <td>NaN</td>\n",
       "      <td>NaN</td>\n",
       "      <td>0:CENSORED</td>\n",
       "      <td>9.961535</td>\n",
       "      <td>NaN</td>\n",
       "      <td>NaN</td>\n",
       "      <td>NaN</td>\n",
       "      <td>NaN</td>\n",
       "      <td>NaN</td>\n",
       "      <td>NaN</td>\n",
       "    </tr>\n",
       "    <tr>\n",
       "      <th>4</th>\n",
       "      <td>0:DiseaseFree</td>\n",
       "      <td>48.098103</td>\n",
       "      <td>0:CENSORED</td>\n",
       "      <td>48.098103</td>\n",
       "      <td>NaN</td>\n",
       "      <td>NaN</td>\n",
       "      <td>NaN</td>\n",
       "      <td>1.0</td>\n",
       "      <td>NaN</td>\n",
       "      <td>NaN</td>\n",
       "    </tr>\n",
       "  </tbody>\n",
       "</table>\n",
       "</div>"
      ],
      "text/plain": [
       "      DFS_STATUS  DFS_MONTHS  PFS_STATUS  PFS_MONTHS  TTN  PIK3CA  TP53  \\\n",
       "0  0:DiseaseFree  131.669790  0:CENSORED  131.669790  2.0     NaN   1.0   \n",
       "1            NaN         NaN  0:CENSORED   47.604958  NaN     2.0   NaN   \n",
       "2  0:DiseaseFree   11.440971  0:CENSORED   11.440971  NaN     NaN   NaN   \n",
       "3            NaN         NaN  0:CENSORED    9.961535  NaN     NaN   NaN   \n",
       "4  0:DiseaseFree   48.098103  0:CENSORED   48.098103  NaN     NaN   NaN   \n",
       "\n",
       "   MUC16  MAP3K1  CDH1  \n",
       "0    2.0     NaN   NaN  \n",
       "1    NaN     NaN   NaN  \n",
       "2    NaN     NaN   1.0  \n",
       "3    NaN     NaN   NaN  \n",
       "4    1.0     NaN   NaN  "
      ]
     },
     "execution_count": 83,
     "metadata": {},
     "output_type": "execute_result"
    }
   ],
   "source": [
    "df.iloc[:5,250:260]"
   ]
  },
  {
   "cell_type": "code",
   "execution_count": null,
   "metadata": {},
   "outputs": [],
   "source": [
    "\"AGE\",\"SEX\",\"ETHNICITY\",\"RACE\",\"WEIGHT\""
   ]
  },
  {
   "cell_type": "code",
   "execution_count": 77,
   "metadata": {},
   "outputs": [
    {
     "data": {
      "text/plain": [
       "Tumor Free    695\n",
       "With Tumor     71\n",
       "Name: PERSON_NEOPLASM_CANCER_STATUS, dtype: int64"
      ]
     },
     "execution_count": 77,
     "metadata": {},
     "output_type": "execute_result"
    }
   ],
   "source": [
    "df[\"PERSON_NEOPLASM_CANCER_STATUS\"].value_counts()"
   ]
  },
  {
   "cell_type": "code",
   "execution_count": 79,
   "metadata": {},
   "outputs": [
    {
     "data": {
      "text/plain": [
       "0:LIVING      754\n",
       "1:DECEASED    122\n",
       "Name: OS_STATUS, dtype: int64"
      ]
     },
     "execution_count": 79,
     "metadata": {},
     "output_type": "execute_result"
    }
   ],
   "source": [
    "df[\"OS_STATUS\"].value_counts()\n",
    "\n",
    "#notes we are assuming the person dies of cancer"
   ]
  },
  {
   "cell_type": "code",
   "execution_count": 80,
   "metadata": {},
   "outputs": [
    {
     "data": {
      "text/plain": [
       "0:ALIVE OR DEAD TUMOR FREE    791\n",
       "1:DEAD WITH TUMOR              66\n",
       "Name: DSS_STATUS, dtype: int64"
      ]
     },
     "execution_count": 80,
     "metadata": {},
     "output_type": "execute_result"
    }
   ],
   "source": []
  },
  {
   "cell_type": "code",
   "execution_count": 82,
   "metadata": {},
   "outputs": [
    {
     "data": {
      "text/plain": [
       "<AxesSubplot:>"
      ]
     },
     "execution_count": 82,
     "metadata": {},
     "output_type": "execute_result"
    },
    {
     "data": {
      "image/png": "[encoded data removed]",
      "text/plain": [
       "<Figure size 432x288 with 1 Axes>"
      ]
     },
     "metadata": {
      "needs_background": "light"
     },
     "output_type": "display_data"
    }
   ],
   "source": [
    "df[\"DSS_MONTHS\"].hist()"
   ]
  },
  {
   "cell_type": "code",
   "execution_count": 256,
   "metadata": {},
   "outputs": [
    {
     "data": {
      "text/plain": [
       "PRDX1|PRDX1                      0\n",
       "RAB11A RAB11B|Rab11              0\n",
       "RAB25|Rab25                      0\n",
       "RPTOR|Raptor                     0\n",
       "RBM15|RBM15                      0\n",
       "RICTOR|Rictor                    0\n",
       "RICTOR|Rictor_pT1135             0\n",
       "SCD1|SCD1                        0\n",
       "SRSF1|SF2                        0\n",
       "WWTR1|TAZ                        0\n",
       "TIGAR|TIGAR                      0\n",
       "TGM2|Transglutaminase            0\n",
       "TFRC|TFRC                        0\n",
       "TSC1|TSC1                        0\n",
       "TSC2|Tuberin_pT1462              0\n",
       "VHL|VHL                          0\n",
       "XBP1|XBP1                        0\n",
       "TUBA1B|Acetyl-a-Tubulin-Lys40    0\n",
       "SQSTM1|p62-LCK-ligand            0\n",
       "YWHAB|14-3-3_beta                0\n",
       "YWHAZ|14-3-3_zeta                0\n",
       "ACVRL1|ACVRL1                    0\n",
       "DIRAS3|DIRAS3                    0\n",
       "ANXA1|Annexin-1                  0\n",
       "PREX1|PREX1                      0\n",
       "ERCC1|ERCC1                      0\n",
       "MSH2|MSH2                        0\n",
       "MSH6|MSH6                        0\n",
       "DIABLO|Smac                      0\n",
       "dtype: int64"
      ]
     },
     "execution_count": 256,
     "metadata": {},
     "output_type": "execute_result"
    }
   ],
   "source": [
    "df.iloc[:,180:209].isna().sum()"
   ]
  },
  {
   "cell_type": "code",
   "execution_count": 227,
   "metadata": {
    "collapsed": true,
    "jupyter": {
     "outputs_hidden": true
    }
   },
   "outputs": [
    {
     "data": {
      "text/html": [
       "<div>\n",
       "<style scoped>\n",
       "    .dataframe tbody tr th:only-of-type {\n",
       "        vertical-align: middle;\n",
       "    }\n",
       "\n",
       "    .dataframe tbody tr th {\n",
       "        vertical-align: top;\n",
       "    }\n",
       "\n",
       "    .dataframe thead th {\n",
       "        text-align: right;\n",
       "    }\n",
       "</style>\n",
       "<table border=\"1\" class=\"dataframe\">\n",
       "  <thead>\n",
       "    <tr style=\"text-align: right;\">\n",
       "      <th></th>\n",
       "      <th>AR|AR</th>\n",
       "      <th>ASNS|ASNS</th>\n",
       "      <th>ATM|ATM</th>\n",
       "      <th>BAK1|Bak</th>\n",
       "      <th>BAX|Bax</th>\n",
       "      <th>BCL2|Bcl-2</th>\n",
       "      <th>BCL2L1|Bcl-xL</th>\n",
       "      <th>BECN1|Beclin</th>\n",
       "      <th>CTNNB1|beta-Catenin</th>\n",
       "      <th>BID|Bid</th>\n",
       "      <th>BCL2L11|Bim</th>\n",
       "      <th>JUN|c-Jun_pS73</th>\n",
       "      <th>KIT|c-Kit</th>\n",
       "      <th>MET|c-Met_pY1235</th>\n",
       "      <th>MYC|c-Myc</th>\n",
       "      <th>RAF1|C-Raf</th>\n",
       "      <th>RAF1|C-Raf_pS338</th>\n",
       "      <th>CASP7|Caspase-7_cleavedD198</th>\n",
       "      <th>CAV1|Caveolin-1</th>\n",
       "      <th>PECAM1|CD31</th>\n",
       "    </tr>\n",
       "  </thead>\n",
       "  <tbody>\n",
       "    <tr>\n",
       "      <th>0</th>\n",
       "      <td>0.295800</td>\n",
       "      <td>0.082284</td>\n",
       "      <td>2.859054</td>\n",
       "      <td>1.190818</td>\n",
       "      <td>1.599181</td>\n",
       "      <td>-1.147306</td>\n",
       "      <td>0.402168</td>\n",
       "      <td>-0.097412</td>\n",
       "      <td>0.608815</td>\n",
       "      <td>1.582274</td>\n",
       "      <td>0.151290</td>\n",
       "      <td>-1.003003</td>\n",
       "      <td>0.621340</td>\n",
       "      <td>0.693300</td>\n",
       "      <td>0.939124</td>\n",
       "      <td>1.293128</td>\n",
       "      <td>0.292942</td>\n",
       "      <td>0.153900</td>\n",
       "      <td>2.059358</td>\n",
       "      <td>-1.441178</td>\n",
       "    </tr>\n",
       "    <tr>\n",
       "      <th>1</th>\n",
       "      <td>1.491036</td>\n",
       "      <td>-1.204526</td>\n",
       "      <td>3.319179</td>\n",
       "      <td>0.451765</td>\n",
       "      <td>1.271841</td>\n",
       "      <td>0.056436</td>\n",
       "      <td>-0.233570</td>\n",
       "      <td>-0.791693</td>\n",
       "      <td>1.772495</td>\n",
       "      <td>1.083656</td>\n",
       "      <td>0.482135</td>\n",
       "      <td>-1.247787</td>\n",
       "      <td>3.036708</td>\n",
       "      <td>0.384050</td>\n",
       "      <td>0.832100</td>\n",
       "      <td>1.224468</td>\n",
       "      <td>-0.412164</td>\n",
       "      <td>-0.284561</td>\n",
       "      <td>3.468874</td>\n",
       "      <td>-1.558148</td>\n",
       "    </tr>\n",
       "    <tr>\n",
       "      <th>2</th>\n",
       "      <td>1.917243</td>\n",
       "      <td>-0.907969</td>\n",
       "      <td>1.277484</td>\n",
       "      <td>1.143486</td>\n",
       "      <td>1.252343</td>\n",
       "      <td>-0.632766</td>\n",
       "      <td>-0.074598</td>\n",
       "      <td>-0.480634</td>\n",
       "      <td>1.058430</td>\n",
       "      <td>0.790860</td>\n",
       "      <td>0.326254</td>\n",
       "      <td>-1.522674</td>\n",
       "      <td>1.521680</td>\n",
       "      <td>0.330156</td>\n",
       "      <td>-0.060947</td>\n",
       "      <td>1.208489</td>\n",
       "      <td>0.028615</td>\n",
       "      <td>-1.027232</td>\n",
       "      <td>2.146246</td>\n",
       "      <td>-1.706926</td>\n",
       "    </tr>\n",
       "    <tr>\n",
       "      <th>3</th>\n",
       "      <td>1.426512</td>\n",
       "      <td>0.613709</td>\n",
       "      <td>3.045319</td>\n",
       "      <td>0.593754</td>\n",
       "      <td>1.269858</td>\n",
       "      <td>-0.147632</td>\n",
       "      <td>-0.183871</td>\n",
       "      <td>-0.878995</td>\n",
       "      <td>1.831955</td>\n",
       "      <td>0.963940</td>\n",
       "      <td>0.732642</td>\n",
       "      <td>-1.185162</td>\n",
       "      <td>-0.485745</td>\n",
       "      <td>0.360830</td>\n",
       "      <td>0.960347</td>\n",
       "      <td>1.199992</td>\n",
       "      <td>-0.034307</td>\n",
       "      <td>-0.723338</td>\n",
       "      <td>0.414565</td>\n",
       "      <td>-1.600073</td>\n",
       "    </tr>\n",
       "    <tr>\n",
       "      <th>4</th>\n",
       "      <td>2.207027</td>\n",
       "      <td>-1.519611</td>\n",
       "      <td>2.643819</td>\n",
       "      <td>0.465553</td>\n",
       "      <td>0.934596</td>\n",
       "      <td>0.154100</td>\n",
       "      <td>-0.455447</td>\n",
       "      <td>-0.782150</td>\n",
       "      <td>2.156424</td>\n",
       "      <td>0.480984</td>\n",
       "      <td>0.654316</td>\n",
       "      <td>-0.743734</td>\n",
       "      <td>0.679252</td>\n",
       "      <td>0.146450</td>\n",
       "      <td>1.263635</td>\n",
       "      <td>0.768160</td>\n",
       "      <td>-0.014138</td>\n",
       "      <td>-1.125272</td>\n",
       "      <td>1.424698</td>\n",
       "      <td>-1.362004</td>\n",
       "    </tr>\n",
       "    <tr>\n",
       "      <th>...</th>\n",
       "      <td>...</td>\n",
       "      <td>...</td>\n",
       "      <td>...</td>\n",
       "      <td>...</td>\n",
       "      <td>...</td>\n",
       "      <td>...</td>\n",
       "      <td>...</td>\n",
       "      <td>...</td>\n",
       "      <td>...</td>\n",
       "      <td>...</td>\n",
       "      <td>...</td>\n",
       "      <td>...</td>\n",
       "      <td>...</td>\n",
       "      <td>...</td>\n",
       "      <td>...</td>\n",
       "      <td>...</td>\n",
       "      <td>...</td>\n",
       "      <td>...</td>\n",
       "      <td>...</td>\n",
       "      <td>...</td>\n",
       "    </tr>\n",
       "    <tr>\n",
       "      <th>871</th>\n",
       "      <td>1.093749</td>\n",
       "      <td>-0.497431</td>\n",
       "      <td>0.636635</td>\n",
       "      <td>2.641466</td>\n",
       "      <td>2.017932</td>\n",
       "      <td>-1.363097</td>\n",
       "      <td>-0.074006</td>\n",
       "      <td>1.068445</td>\n",
       "      <td>-0.347263</td>\n",
       "      <td>2.601984</td>\n",
       "      <td>-0.382826</td>\n",
       "      <td>-2.355663</td>\n",
       "      <td>0.959631</td>\n",
       "      <td>1.061067</td>\n",
       "      <td>2.393701</td>\n",
       "      <td>1.429960</td>\n",
       "      <td>0.454942</td>\n",
       "      <td>0.047841</td>\n",
       "      <td>5.997996</td>\n",
       "      <td>-1.377361</td>\n",
       "    </tr>\n",
       "    <tr>\n",
       "      <th>872</th>\n",
       "      <td>1.149440</td>\n",
       "      <td>-0.568343</td>\n",
       "      <td>3.788651</td>\n",
       "      <td>1.109945</td>\n",
       "      <td>1.460553</td>\n",
       "      <td>0.139896</td>\n",
       "      <td>-0.274526</td>\n",
       "      <td>-0.233932</td>\n",
       "      <td>2.088690</td>\n",
       "      <td>0.976306</td>\n",
       "      <td>1.616984</td>\n",
       "      <td>-0.819207</td>\n",
       "      <td>-0.634837</td>\n",
       "      <td>-0.160613</td>\n",
       "      <td>0.718063</td>\n",
       "      <td>1.330926</td>\n",
       "      <td>-0.146877</td>\n",
       "      <td>-0.233595</td>\n",
       "      <td>2.440111</td>\n",
       "      <td>-2.060096</td>\n",
       "    </tr>\n",
       "    <tr>\n",
       "      <th>873</th>\n",
       "      <td>0.218456</td>\n",
       "      <td>-0.516806</td>\n",
       "      <td>2.335887</td>\n",
       "      <td>0.616961</td>\n",
       "      <td>1.300062</td>\n",
       "      <td>-0.359816</td>\n",
       "      <td>-0.332818</td>\n",
       "      <td>-1.011123</td>\n",
       "      <td>0.012962</td>\n",
       "      <td>0.612933</td>\n",
       "      <td>1.025599</td>\n",
       "      <td>-0.988282</td>\n",
       "      <td>-0.580835</td>\n",
       "      <td>-0.068121</td>\n",
       "      <td>0.335623</td>\n",
       "      <td>1.243641</td>\n",
       "      <td>0.020549</td>\n",
       "      <td>-0.588248</td>\n",
       "      <td>1.346396</td>\n",
       "      <td>-1.690181</td>\n",
       "    </tr>\n",
       "    <tr>\n",
       "      <th>874</th>\n",
       "      <td>2.870505</td>\n",
       "      <td>-1.375796</td>\n",
       "      <td>2.620078</td>\n",
       "      <td>1.281955</td>\n",
       "      <td>1.723086</td>\n",
       "      <td>-0.046883</td>\n",
       "      <td>-0.238488</td>\n",
       "      <td>-0.995593</td>\n",
       "      <td>-0.211591</td>\n",
       "      <td>1.332136</td>\n",
       "      <td>1.300258</td>\n",
       "      <td>-1.362323</td>\n",
       "      <td>0.879591</td>\n",
       "      <td>0.662205</td>\n",
       "      <td>0.376367</td>\n",
       "      <td>1.224314</td>\n",
       "      <td>0.261751</td>\n",
       "      <td>-0.064116</td>\n",
       "      <td>2.605826</td>\n",
       "      <td>-1.663683</td>\n",
       "    </tr>\n",
       "    <tr>\n",
       "      <th>875</th>\n",
       "      <td>2.093657</td>\n",
       "      <td>-1.065005</td>\n",
       "      <td>2.251807</td>\n",
       "      <td>1.679462</td>\n",
       "      <td>1.430915</td>\n",
       "      <td>-0.571317</td>\n",
       "      <td>-0.121147</td>\n",
       "      <td>-0.927111</td>\n",
       "      <td>0.360879</td>\n",
       "      <td>0.567878</td>\n",
       "      <td>1.289647</td>\n",
       "      <td>-0.949735</td>\n",
       "      <td>-0.304052</td>\n",
       "      <td>-0.132512</td>\n",
       "      <td>-0.219258</td>\n",
       "      <td>1.179068</td>\n",
       "      <td>-0.397425</td>\n",
       "      <td>-1.173240</td>\n",
       "      <td>1.227705</td>\n",
       "      <td>-1.826078</td>\n",
       "    </tr>\n",
       "  </tbody>\n",
       "</table>\n",
       "<p>876 rows × 20 columns</p>\n",
       "</div>"
      ],
      "text/plain": [
       "        AR|AR  ASNS|ASNS   ATM|ATM  BAK1|Bak   BAX|Bax  BCL2|Bcl-2  \\\n",
       "0    0.295800   0.082284  2.859054  1.190818  1.599181   -1.147306   \n",
       "1    1.491036  -1.204526  3.319179  0.451765  1.271841    0.056436   \n",
       "2    1.917243  -0.907969  1.277484  1.143486  1.252343   -0.632766   \n",
       "3    1.426512   0.613709  3.045319  0.593754  1.269858   -0.147632   \n",
       "4    2.207027  -1.519611  2.643819  0.465553  0.934596    0.154100   \n",
       "..        ...        ...       ...       ...       ...         ...   \n",
       "871  1.093749  -0.497431  0.636635  2.641466  2.017932   -1.363097   \n",
       "872  1.149440  -0.568343  3.788651  1.109945  1.460553    0.139896   \n",
       "873  0.218456  -0.516806  2.335887  0.616961  1.300062   -0.359816   \n",
       "874  2.870505  -1.375796  2.620078  1.281955  1.723086   -0.046883   \n",
       "875  2.093657  -1.065005  2.251807  1.679462  1.430915   -0.571317   \n",
       "\n",
       "     BCL2L1|Bcl-xL  BECN1|Beclin  CTNNB1|beta-Catenin   BID|Bid  BCL2L11|Bim  \\\n",
       "0         0.402168     -0.097412             0.608815  1.582274     0.151290   \n",
       "1        -0.233570     -0.791693             1.772495  1.083656     0.482135   \n",
       "2        -0.074598     -0.480634             1.058430  0.790860     0.326254   \n",
       "3        -0.183871     -0.878995             1.831955  0.963940     0.732642   \n",
       "4        -0.455447     -0.782150             2.156424  0.480984     0.654316   \n",
       "..             ...           ...                  ...       ...          ...   \n",
       "871      -0.074006      1.068445            -0.347263  2.601984    -0.382826   \n",
       "872      -0.274526     -0.233932             2.088690  0.976306     1.616984   \n",
       "873      -0.332818     -1.011123             0.012962  0.612933     1.025599   \n",
       "874      -0.238488     -0.995593            -0.211591  1.332136     1.300258   \n",
       "875      -0.121147     -0.927111             0.360879  0.567878     1.289647   \n",
       "\n",
       "     JUN|c-Jun_pS73  KIT|c-Kit  MET|c-Met_pY1235  MYC|c-Myc  RAF1|C-Raf  \\\n",
       "0         -1.003003   0.621340          0.693300   0.939124    1.293128   \n",
       "1         -1.247787   3.036708          0.384050   0.832100    1.224468   \n",
       "2         -1.522674   1.521680          0.330156  -0.060947    1.208489   \n",
       "3         -1.185162  -0.485745          0.360830   0.960347    1.199992   \n",
       "4         -0.743734   0.679252          0.146450   1.263635    0.768160   \n",
       "..              ...        ...               ...        ...         ...   \n",
       "871       -2.355663   0.959631          1.061067   2.393701    1.429960   \n",
       "872       -0.819207  -0.634837         -0.160613   0.718063    1.330926   \n",
       "873       -0.988282  -0.580835         -0.068121   0.335623    1.243641   \n",
       "874       -1.362323   0.879591          0.662205   0.376367    1.224314   \n",
       "875       -0.949735  -0.304052         -0.132512  -0.219258    1.179068   \n",
       "\n",
       "     RAF1|C-Raf_pS338  CASP7|Caspase-7_cleavedD198  CAV1|Caveolin-1  \\\n",
       "0            0.292942                     0.153900         2.059358   \n",
       "1           -0.412164                    -0.284561         3.468874   \n",
       "2            0.028615                    -1.027232         2.146246   \n",
       "3           -0.034307                    -0.723338         0.414565   \n",
       "4           -0.014138                    -1.125272         1.424698   \n",
       "..                ...                          ...              ...   \n",
       "871          0.454942                     0.047841         5.997996   \n",
       "872         -0.146877                    -0.233595         2.440111   \n",
       "873          0.020549                    -0.588248         1.346396   \n",
       "874          0.261751                    -0.064116         2.605826   \n",
       "875         -0.397425                    -1.173240         1.227705   \n",
       "\n",
       "     PECAM1|CD31  \n",
       "0      -1.441178  \n",
       "1      -1.558148  \n",
       "2      -1.706926  \n",
       "3      -1.600073  \n",
       "4      -1.362004  \n",
       "..           ...  \n",
       "871    -1.377361  \n",
       "872    -2.060096  \n",
       "873    -1.690181  \n",
       "874    -1.663683  \n",
       "875    -1.826078  \n",
       "\n",
       "[876 rows x 20 columns]"
      ]
     },
     "execution_count": 227,
     "metadata": {},
     "output_type": "execute_result"
    }
   ],
   "source": [
    "df.iloc[:,30:50]"
   ]
  },
  {
   "cell_type": "markdown",
   "metadata": {},
   "source": [
    "# Variable Selection\n",
    "\n",
    "- Patient characteristics\n",
    "- mutation data\n",
    "- rppa data\n",
    "- others?\n",
    "\n",
    "\n",
    "\n",
    "# Target Variable\n",
    "\n",
    "- \"DSS_STATUS\"\n",
    "- others?\n"
   ]
  },
  {
   "cell_type": "code",
   "execution_count": 121,
   "metadata": {},
   "outputs": [
    {
     "data": {
      "text/plain": [
       "19"
      ]
     },
     "execution_count": 121,
     "metadata": {},
     "output_type": "execute_result"
    }
   ],
   "source": [
    "df[\"DSS_STATUS\"].value_counts()\n",
    "df[\"DSS_STATUS\"].isna().sum()\n",
    "#notes we are assuming the person dies of cancer\n",
    "# this might be our only option"
   ]
  },
  {
   "cell_type": "markdown",
   "metadata": {},
   "source": [
    "# Variable Selection\n",
    "\n",
    "- WEIGHT is missing for all \n",
    "- \"ETHNICITY\" is missing for many \"ETHNICITY\""
   ]
  },
  {
   "cell_type": "code",
   "execution_count": 145,
   "metadata": {},
   "outputs": [
    {
     "data": {
      "text/plain": [
       "White                               623\n",
       "Black or African American           136\n",
       "Asian                                59\n",
       "American Indian or Alaska Native      1\n",
       "Name: RACE, dtype: int64"
      ]
     },
     "execution_count": 145,
     "metadata": {},
     "output_type": "execute_result"
    }
   ],
   "source": [
    "df[\"RACE\"].value_counts()\n",
    "\n",
    "#\"SEX\",\"RACE\""
   ]
  },
  {
   "cell_type": "code",
   "execution_count": 266,
   "metadata": {},
   "outputs": [],
   "source": [
    "model_cols.extend([\"AGE\",\"Aneuploidy Score\",\"MSI MANTIS Score\",\"TMB (nonsynonymous)\",\"DSS_STATUS\"])"
   ]
  },
  {
   "cell_type": "code",
   "execution_count": 267,
   "metadata": {},
   "outputs": [],
   "source": [
    "df_model = df.loc[:,model_cols]"
   ]
  },
  {
   "cell_type": "code",
   "execution_count": null,
   "metadata": {},
   "outputs": [],
   "source": []
  },
  {
   "cell_type": "code",
   "execution_count": 268,
   "metadata": {},
   "outputs": [
    {
     "data": {
      "text/plain": [
       "YWHAE|14-3-3_epsilon        0\n",
       "EIF4EBP1|4E-BP1             0\n",
       "EIF4EBP1|4E-BP1_pS65        0\n",
       "EIF4EBP1|4E-BP1_pT37T46     0\n",
       "TP53BP1|53BP1               0\n",
       "                           ..\n",
       "AGE                         0\n",
       "Aneuploidy Score           40\n",
       "MSI MANTIS Score           40\n",
       "TMB (nonsynonymous)        56\n",
       "DSS_STATUS                 19\n",
       "Length: 196, dtype: int64"
      ]
     },
     "execution_count": 268,
     "metadata": {},
     "output_type": "execute_result"
    }
   ],
   "source": [
    "df_model.isna().sum()"
   ]
  },
  {
   "cell_type": "markdown",
   "metadata": {},
   "source": [
    "# Drop rows with missing outcome variable"
   ]
  },
  {
   "cell_type": "code",
   "execution_count": 269,
   "metadata": {},
   "outputs": [],
   "source": [
    "df_model.dropna(axis = 0, subset= [\"DSS_STATUS\"],inplace=True)"
   ]
  },
  {
   "cell_type": "markdown",
   "metadata": {},
   "source": [
    "# Define X and Y values"
   ]
  },
  {
   "cell_type": "code",
   "execution_count": 270,
   "metadata": {},
   "outputs": [],
   "source": [
    "map_dict = {\"0:ALIVE OR DEAD TUMOR FREE\" : int(0),\n",
    "            \"1:DEAD WITH TUMOR\" : int(1)\n",
    "           }\n",
    "\n",
    "\n",
    "X = df_model.loc[:,[\"AGE\",\"Aneuploidy Score\",\"MSI MANTIS Score\",\"TMB (nonsynonymous)\"]]\n",
    "y = df_model[\"DSS_STATUS\"].map(map_dict)\n",
    "\n"
   ]
  },
  {
   "cell_type": "code",
   "execution_count": null,
   "metadata": {},
   "outputs": [],
   "source": []
  },
  {
   "cell_type": "code",
   "execution_count": null,
   "metadata": {},
   "outputs": [],
   "source": []
  },
  {
   "cell_type": "code",
   "execution_count": null,
   "metadata": {},
   "outputs": [],
   "source": []
  },
  {
   "cell_type": "code",
   "execution_count": null,
   "metadata": {},
   "outputs": [],
   "source": []
  },
  {
   "cell_type": "code",
   "execution_count": null,
   "metadata": {},
   "outputs": [],
   "source": []
  },
  {
   "cell_type": "markdown",
   "metadata": {},
   "source": [
    "# import and start very basic models\n",
    "\n",
    "https://scikit-learn.org/stable/model_selection.html#model-selection"
   ]
  },
  {
   "cell_type": "code",
   "execution_count": 271,
   "metadata": {},
   "outputs": [],
   "source": [
    "X_train, X_test, y_train, y_test = train_test_split(X, y, test_size=0.33, random_state=0,stratify=y)"
   ]
  },
  {
   "cell_type": "code",
   "execution_count": 272,
   "metadata": {},
   "outputs": [
    {
     "data": {
      "text/plain": [
       "((574, 4), (283, 4), (574,), (283,))"
      ]
     },
     "execution_count": 272,
     "metadata": {},
     "output_type": "execute_result"
    }
   ],
   "source": [
    "X_train.shape, X_test.shape, y_train.shape, y_test.shape"
   ]
  },
  {
   "cell_type": "markdown",
   "metadata": {},
   "source": [
    "# Preprocessing\n",
    "\n",
    "- https://scikit-learn.org/stable/modules/preprocessing.html#preprocessing\n",
    "\n",
    "- Imputing missing_data  https://scikit-learn.org/stable/modules/preprocessing.html#imputation-of-missing-values\n",
    "- https://scikit-learn.org/stable/auto_examples/impute/plot_missing_values.html#sphx-glr-auto-examples-impute-plot-missing-values-py\n",
    "- scaling data\n",
    "- PCA (on mutations things like that) or combine them all into one... This would reduce interpretability?\n",
    "- SMOTE imbalanced dataset\n",
    "- polynomial features\n",
    "- enhanced variable selection? ENET or other automated option https://scikit-learn.org/stable/modules/feature_selection.html#feature-selection"
   ]
  },
  {
   "cell_type": "markdown",
   "metadata": {},
   "source": [
    "# Modeling\n",
    "\n",
    "- Decision Tree \n",
    "- KNN\n",
    "- logistic regression\n",
    "- gradient boosting\n",
    "- ensemble\n",
    "- others"
   ]
  },
  {
   "cell_type": "markdown",
   "metadata": {},
   "source": [
    "# Model Evaluation"
   ]
  },
  {
   "cell_type": "markdown",
   "metadata": {},
   "source": [
    "# PIPELINE DEFINE"
   ]
  },
  {
   "cell_type": "code",
   "execution_count": 188,
   "metadata": {},
   "outputs": [],
   "source": [
    "sensitivity = make_scorer(recall_score, pos_label=1)\n",
    "specificity = make_scorer(recall_score, pos_label=0)\n",
    "PPV = make_scorer(precision_score, pos_label=1)\n",
    "NPV = make_scorer(precision_score, pos_label=0)\n",
    "MCC = make_scorer(matthews_corrcoef)\n",
    "score_metrics = {'roc_auc':'roc_auc','accuracy':'accuracy','MCC':MCC,\n",
    "                 'bal_acc':'balanced_accuracy', 'sensitivity' : sensitivity,\n",
    "                 'specificity': specificity,'PPV': PPV, 'NPV' : NPV, 'f1':'f1'}"
   ]
  },
  {
   "cell_type": "code",
   "execution_count": 282,
   "metadata": {},
   "outputs": [],
   "source": [
    "# define pipeline\n",
    "\n",
    "\n",
    "imp = IterativeImputer(max_iter=100, random_state=0)\n",
    "scale = StandardScaler()\n",
    "over = SMOTE(random_state=0)\n",
    "\n",
    "model = HistGradientBoostingClassifier()\n",
    "\n",
    "#defining steps in pipeline\n",
    "steps = [('impute',imp),('scale', scale), ('over', over), ('model', model)]\n",
    "pipeline = Pipeline(steps=steps, verbose=1)\n",
    "\n",
    "\n",
    "#defining CV methods\n",
    "#using groups to prevent animals from appearing in training and test sets\n",
    "#group_kfold = GroupKFold(n_splits = 5)\n",
    "\n",
    "\n"
   ]
  },
  {
   "cell_type": "code",
   "execution_count": 283,
   "metadata": {},
   "outputs": [
    {
     "name": "stderr",
     "output_type": "stream",
     "text": [
      "[Parallel(n_jobs=5)]: Using backend LokyBackend with 5 concurrent workers.\n",
      "[Parallel(n_jobs=5)]: Done   3 out of   3 | elapsed:    1.1s finished\n"
     ]
    }
   ],
   "source": [
    "#Evaluate the model\n",
    "scores = cross_validate(pipeline, X_train, y_train, cv=3,\n",
    "                        scoring=score_metrics,\n",
    "                        return_train_score=False, \n",
    "                        verbose=1,n_jobs=5)"
   ]
  },
  {
   "cell_type": "code",
   "execution_count": 284,
   "metadata": {},
   "outputs": [],
   "source": [
    "score_df = pd.DataFrame(scores)"
   ]
  },
  {
   "cell_type": "code",
   "execution_count": 285,
   "metadata": {},
   "outputs": [
    {
     "data": {
      "text/html": [
       "<div>\n",
       "<style scoped>\n",
       "    .dataframe tbody tr th:only-of-type {\n",
       "        vertical-align: middle;\n",
       "    }\n",
       "\n",
       "    .dataframe tbody tr th {\n",
       "        vertical-align: top;\n",
       "    }\n",
       "\n",
       "    .dataframe thead th {\n",
       "        text-align: right;\n",
       "    }\n",
       "</style>\n",
       "<table border=\"1\" class=\"dataframe\">\n",
       "  <thead>\n",
       "    <tr style=\"text-align: right;\">\n",
       "      <th></th>\n",
       "      <th>fit_time</th>\n",
       "      <th>score_time</th>\n",
       "      <th>test_roc_auc</th>\n",
       "      <th>test_accuracy</th>\n",
       "      <th>test_MCC</th>\n",
       "      <th>test_bal_acc</th>\n",
       "      <th>test_sensitivity</th>\n",
       "      <th>test_specificity</th>\n",
       "      <th>test_PPV</th>\n",
       "      <th>test_NPV</th>\n",
       "      <th>test_f1</th>\n",
       "    </tr>\n",
       "  </thead>\n",
       "  <tbody>\n",
       "    <tr>\n",
       "      <th>count</th>\n",
       "      <td>3.000000</td>\n",
       "      <td>3.000000e+00</td>\n",
       "      <td>3.000000</td>\n",
       "      <td>3.000000</td>\n",
       "      <td>3.000000</td>\n",
       "      <td>3.000000</td>\n",
       "      <td>3.000000</td>\n",
       "      <td>3.000000</td>\n",
       "      <td>3.000000</td>\n",
       "      <td>3.000000</td>\n",
       "      <td>3.000000</td>\n",
       "    </tr>\n",
       "    <tr>\n",
       "      <th>mean</th>\n",
       "      <td>0.245830</td>\n",
       "      <td>7.999897e-03</td>\n",
       "      <td>0.503403</td>\n",
       "      <td>0.813609</td>\n",
       "      <td>0.035014</td>\n",
       "      <td>0.522721</td>\n",
       "      <td>0.179365</td>\n",
       "      <td>0.866076</td>\n",
       "      <td>0.099822</td>\n",
       "      <td>0.927312</td>\n",
       "      <td>0.127697</td>\n",
       "    </tr>\n",
       "    <tr>\n",
       "      <th>std</th>\n",
       "      <td>0.018305</td>\n",
       "      <td>8.596304e-07</td>\n",
       "      <td>0.091937</td>\n",
       "      <td>0.016461</td>\n",
       "      <td>0.073501</td>\n",
       "      <td>0.047965</td>\n",
       "      <td>0.099241</td>\n",
       "      <td>0.019507</td>\n",
       "      <td>0.051812</td>\n",
       "      <td>0.005113</td>\n",
       "      <td>0.066660</td>\n",
       "    </tr>\n",
       "    <tr>\n",
       "      <th>min</th>\n",
       "      <td>0.225501</td>\n",
       "      <td>7.999182e-03</td>\n",
       "      <td>0.397498</td>\n",
       "      <td>0.802083</td>\n",
       "      <td>-0.049582</td>\n",
       "      <td>0.467918</td>\n",
       "      <td>0.071429</td>\n",
       "      <td>0.847458</td>\n",
       "      <td>0.040000</td>\n",
       "      <td>0.921687</td>\n",
       "      <td>0.051282</td>\n",
       "    </tr>\n",
       "    <tr>\n",
       "      <th>25%</th>\n",
       "      <td>0.238240</td>\n",
       "      <td>7.999420e-03</td>\n",
       "      <td>0.473749</td>\n",
       "      <td>0.804183</td>\n",
       "      <td>0.010902</td>\n",
       "      <td>0.505550</td>\n",
       "      <td>0.135714</td>\n",
       "      <td>0.855932</td>\n",
       "      <td>0.084516</td>\n",
       "      <td>0.925129</td>\n",
       "      <td>0.104588</td>\n",
       "    </tr>\n",
       "    <tr>\n",
       "      <th>50%</th>\n",
       "      <td>0.250980</td>\n",
       "      <td>7.999659e-03</td>\n",
       "      <td>0.550000</td>\n",
       "      <td>0.806283</td>\n",
       "      <td>0.071386</td>\n",
       "      <td>0.543182</td>\n",
       "      <td>0.200000</td>\n",
       "      <td>0.864407</td>\n",
       "      <td>0.129032</td>\n",
       "      <td>0.928571</td>\n",
       "      <td>0.157895</td>\n",
       "    </tr>\n",
       "    <tr>\n",
       "      <th>75%</th>\n",
       "      <td>0.255994</td>\n",
       "      <td>8.000255e-03</td>\n",
       "      <td>0.556356</td>\n",
       "      <td>0.819372</td>\n",
       "      <td>0.077312</td>\n",
       "      <td>0.550122</td>\n",
       "      <td>0.233333</td>\n",
       "      <td>0.875385</td>\n",
       "      <td>0.129734</td>\n",
       "      <td>0.930124</td>\n",
       "      <td>0.165904</td>\n",
       "    </tr>\n",
       "    <tr>\n",
       "      <th>max</th>\n",
       "      <td>0.261009</td>\n",
       "      <td>8.000851e-03</td>\n",
       "      <td>0.562712</td>\n",
       "      <td>0.832461</td>\n",
       "      <td>0.083237</td>\n",
       "      <td>0.557062</td>\n",
       "      <td>0.266667</td>\n",
       "      <td>0.886364</td>\n",
       "      <td>0.130435</td>\n",
       "      <td>0.931677</td>\n",
       "      <td>0.173913</td>\n",
       "    </tr>\n",
       "  </tbody>\n",
       "</table>\n",
       "</div>"
      ],
      "text/plain": [
       "       fit_time    score_time  test_roc_auc  test_accuracy  test_MCC  \\\n",
       "count  3.000000  3.000000e+00      3.000000       3.000000  3.000000   \n",
       "mean   0.245830  7.999897e-03      0.503403       0.813609  0.035014   \n",
       "std    0.018305  8.596304e-07      0.091937       0.016461  0.073501   \n",
       "min    0.225501  7.999182e-03      0.397498       0.802083 -0.049582   \n",
       "25%    0.238240  7.999420e-03      0.473749       0.804183  0.010902   \n",
       "50%    0.250980  7.999659e-03      0.550000       0.806283  0.071386   \n",
       "75%    0.255994  8.000255e-03      0.556356       0.819372  0.077312   \n",
       "max    0.261009  8.000851e-03      0.562712       0.832461  0.083237   \n",
       "\n",
       "       test_bal_acc  test_sensitivity  test_specificity  test_PPV  test_NPV  \\\n",
       "count      3.000000          3.000000          3.000000  3.000000  3.000000   \n",
       "mean       0.522721          0.179365          0.866076  0.099822  0.927312   \n",
       "std        0.047965          0.099241          0.019507  0.051812  0.005113   \n",
       "min        0.467918          0.071429          0.847458  0.040000  0.921687   \n",
       "25%        0.505550          0.135714          0.855932  0.084516  0.925129   \n",
       "50%        0.543182          0.200000          0.864407  0.129032  0.928571   \n",
       "75%        0.550122          0.233333          0.875385  0.129734  0.930124   \n",
       "max        0.557062          0.266667          0.886364  0.130435  0.931677   \n",
       "\n",
       "        test_f1  \n",
       "count  3.000000  \n",
       "mean   0.127697  \n",
       "std    0.066660  \n",
       "min    0.051282  \n",
       "25%    0.104588  \n",
       "50%    0.157895  \n",
       "75%    0.165904  \n",
       "max    0.173913  "
      ]
     },
     "execution_count": 285,
     "metadata": {},
     "output_type": "execute_result"
    }
   ],
   "source": [
    "score_df.describe()"
   ]
  },
  {
   "cell_type": "code",
   "execution_count": 286,
   "metadata": {},
   "outputs": [],
   "source": [
    "#generate CI \n",
    "\n",
    "score_df_U95CI = score_df.describe().loc['mean'] + 1.96 * (score_df.describe().loc['std']/ np.sqrt(score_df.describe().loc['count']))\n",
    "score_df_L95CI = score_df.describe().loc['mean'] - 1.96 * (score_df.describe().loc['std']/ np.sqrt(score_df.describe().loc['count']))"
   ]
  },
  {
   "cell_type": "code",
   "execution_count": 287,
   "metadata": {},
   "outputs": [],
   "source": [
    "score_sum = dict()\n",
    "for item in score_df.describe().columns:\n",
    "    mean = round(score_df.describe()[item]['mean'],3)\n",
    "    L95 = round(score_df_U95CI[item],3)\n",
    "    U95 = round(score_df_L95CI[item],3)\n",
    "    score_sum[item]= ((f'{mean}({L95}-{U95})'))\n",
    "    \n",
    "score_summary = pd.Series(score_sum)\n"
   ]
  },
  {
   "cell_type": "code",
   "execution_count": 288,
   "metadata": {},
   "outputs": [
    {
     "data": {
      "text/plain": [
       "fit_time             0.246(0.267-0.225)\n",
       "score_time           0.008(0.008-0.008)\n",
       "test_roc_auc         0.503(0.607-0.399)\n",
       "test_accuracy        0.814(0.832-0.795)\n",
       "test_MCC            0.035(0.118--0.048)\n",
       "test_bal_acc         0.523(0.577-0.468)\n",
       "test_sensitivity     0.179(0.292-0.067)\n",
       "test_specificity     0.866(0.888-0.844)\n",
       "test_PPV               0.1(0.158-0.041)\n",
       "test_NPV             0.927(0.933-0.922)\n",
       "test_f1              0.128(0.203-0.052)\n",
       "dtype: object"
      ]
     },
     "execution_count": 288,
     "metadata": {},
     "output_type": "execute_result"
    }
   ],
   "source": [
    "score_summary"
   ]
  },
  {
   "cell_type": "code",
   "execution_count": null,
   "metadata": {},
   "outputs": [],
   "source": []
  },
  {
   "cell_type": "code",
   "execution_count": null,
   "metadata": {},
   "outputs": [],
   "source": []
  }
 ],
 "metadata": {
  "kernelspec": {
   "display_name": "Python 3 (ipykernel)",
   "language": "python",
   "name": "python3"
  },
  "language_info": {
   "codemirror_mode": {
    "name": "ipython",
    "version": 3
   },
   "file_extension": ".py",
   "mimetype": "text/x-python",
   "name": "python",
   "nbconvert_exporter": "python",
   "pygments_lexer": "ipython3",
   "version": "3.8.12"
  }
 },
 "nbformat": 4,
 "nbformat_minor": 4
}
