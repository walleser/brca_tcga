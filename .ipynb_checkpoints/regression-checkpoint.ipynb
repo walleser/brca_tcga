{
 "cells": [
  {
   "cell_type": "code",
   "execution_count": 44,
   "metadata": {},
   "outputs": [],
   "source": [
    "import pandas as pd\n",
    "import numpy as np\n",
    "\n",
    "#model selection\n",
    "from sklearn.pipeline import make_pipeline\n",
    "from sklearn.model_selection import train_test_split,RandomizedSearchCV,cross_validate\n",
    "\n",
    "#############\n",
    "#preprocessing\n",
    "\n",
    "#missing features\n",
    "\n",
    "\n",
    "#scaling\n",
    "from sklearn.preprocessing import StandardScaler\n",
    "from sklearn.impute import SimpleImputer\n",
    "\n",
    "#oversampling\n",
    "from imblearn.pipeline import Pipeline #can't use standard Pipeline with SMOTE\n",
    "from imblearn.over_sampling import SMOTE\n",
    "\n",
    "\n",
    "####################\n",
    "#models \n",
    "from sklearn.tree import DecisionTreeClassifier\n",
    "\n",
    "from sklearn.experimental import enable_hist_gradient_boosting  \n",
    "from sklearn.ensemble import HistGradientBoostingClassifier\n",
    "from sklearn.linear_model import LinearRegression\n",
    "\n",
    "\n",
    "#model_evaluation\n",
    "from sklearn.metrics import make_scorer, recall_score, precision_score,matthews_corrcoef\n"
   ]
  },
  {
   "cell_type": "code",
   "execution_count": 2,
   "metadata": {},
   "outputs": [
    {
     "name": "stdout",
     "output_type": "stream",
     "text": [
      "(876, 364)\n"
     ]
    },
    {
     "data": {
      "text/html": [
       "<div>\n",
       "<style scoped>\n",
       "    .dataframe tbody tr th:only-of-type {\n",
       "        vertical-align: middle;\n",
       "    }\n",
       "\n",
       "    .dataframe tbody tr th {\n",
       "        vertical-align: top;\n",
       "    }\n",
       "\n",
       "    .dataframe thead th {\n",
       "        text-align: right;\n",
       "    }\n",
       "</style>\n",
       "<table border=\"1\" class=\"dataframe\">\n",
       "  <thead>\n",
       "    <tr style=\"text-align: right;\">\n",
       "      <th></th>\n",
       "      <th>#Patient Identifier</th>\n",
       "      <th>Sample Identifier</th>\n",
       "      <th>Oncotree Code</th>\n",
       "      <th>Cancer Type</th>\n",
       "      <th>Cancer Type Detailed</th>\n",
       "      <th>Tumor Type</th>\n",
       "      <th>Neoplasm Histologic Grade</th>\n",
       "      <th>Tissue Prospective Collection Indicator</th>\n",
       "      <th>Tissue Retrospective Collection Indicator</th>\n",
       "      <th>Tissue Source Site</th>\n",
       "      <th>...</th>\n",
       "      <th>22_mutcount</th>\n",
       "      <th>3_mutcount</th>\n",
       "      <th>4_mutcount</th>\n",
       "      <th>5_mutcount</th>\n",
       "      <th>6_mutcount</th>\n",
       "      <th>7_mutcount</th>\n",
       "      <th>8_mutcount</th>\n",
       "      <th>9_mutcount</th>\n",
       "      <th>X_mutcount</th>\n",
       "      <th>Y_mutcount</th>\n",
       "    </tr>\n",
       "  </thead>\n",
       "  <tbody>\n",
       "    <tr>\n",
       "      <th>0</th>\n",
       "      <td>TCGA-3C-AALI</td>\n",
       "      <td>TCGA-3C-AALI-01</td>\n",
       "      <td>IDC</td>\n",
       "      <td>Invasive Breast Carcinoma</td>\n",
       "      <td>Breast Invasive Ductal Carcinoma</td>\n",
       "      <td>Infiltrating Ductal Carcinoma</td>\n",
       "      <td>NaN</td>\n",
       "      <td>No</td>\n",
       "      <td>Yes</td>\n",
       "      <td>3C</td>\n",
       "      <td>...</td>\n",
       "      <td>9.0</td>\n",
       "      <td>54.0</td>\n",
       "      <td>29.0</td>\n",
       "      <td>32.0</td>\n",
       "      <td>38.0</td>\n",
       "      <td>41.0</td>\n",
       "      <td>32.0</td>\n",
       "      <td>22.0</td>\n",
       "      <td>29.0</td>\n",
       "      <td>NaN</td>\n",
       "    </tr>\n",
       "    <tr>\n",
       "      <th>1</th>\n",
       "      <td>TCGA-3C-AALK</td>\n",
       "      <td>TCGA-3C-AALK-01</td>\n",
       "      <td>IDC</td>\n",
       "      <td>Invasive Breast Carcinoma</td>\n",
       "      <td>Breast Invasive Ductal Carcinoma</td>\n",
       "      <td>Infiltrating Ductal Carcinoma</td>\n",
       "      <td>NaN</td>\n",
       "      <td>No</td>\n",
       "      <td>Yes</td>\n",
       "      <td>3C</td>\n",
       "      <td>...</td>\n",
       "      <td>3.0</td>\n",
       "      <td>5.0</td>\n",
       "      <td>2.0</td>\n",
       "      <td>9.0</td>\n",
       "      <td>5.0</td>\n",
       "      <td>2.0</td>\n",
       "      <td>NaN</td>\n",
       "      <td>4.0</td>\n",
       "      <td>4.0</td>\n",
       "      <td>NaN</td>\n",
       "    </tr>\n",
       "    <tr>\n",
       "      <th>2</th>\n",
       "      <td>TCGA-4H-AAAK</td>\n",
       "      <td>TCGA-4H-AAAK-01</td>\n",
       "      <td>ILC</td>\n",
       "      <td>Invasive Breast Carcinoma</td>\n",
       "      <td>Breast Invasive Lobular Carcinoma</td>\n",
       "      <td>Infiltrating Lobular Carcinoma</td>\n",
       "      <td>NaN</td>\n",
       "      <td>Yes</td>\n",
       "      <td>No</td>\n",
       "      <td>4H</td>\n",
       "      <td>...</td>\n",
       "      <td>NaN</td>\n",
       "      <td>1.0</td>\n",
       "      <td>3.0</td>\n",
       "      <td>2.0</td>\n",
       "      <td>NaN</td>\n",
       "      <td>2.0</td>\n",
       "      <td>2.0</td>\n",
       "      <td>4.0</td>\n",
       "      <td>3.0</td>\n",
       "      <td>NaN</td>\n",
       "    </tr>\n",
       "    <tr>\n",
       "      <th>3</th>\n",
       "      <td>TCGA-5T-A9QA</td>\n",
       "      <td>TCGA-5T-A9QA-01</td>\n",
       "      <td>BRCNOS</td>\n",
       "      <td>Invasive Breast Carcinoma</td>\n",
       "      <td>Breast Invasive Carcinoma (NOS)</td>\n",
       "      <td>Other</td>\n",
       "      <td>NaN</td>\n",
       "      <td>Yes</td>\n",
       "      <td>No</td>\n",
       "      <td>5T</td>\n",
       "      <td>...</td>\n",
       "      <td>4.0</td>\n",
       "      <td>8.0</td>\n",
       "      <td>8.0</td>\n",
       "      <td>NaN</td>\n",
       "      <td>3.0</td>\n",
       "      <td>4.0</td>\n",
       "      <td>2.0</td>\n",
       "      <td>2.0</td>\n",
       "      <td>10.0</td>\n",
       "      <td>NaN</td>\n",
       "    </tr>\n",
       "    <tr>\n",
       "      <th>4</th>\n",
       "      <td>TCGA-A1-A0SF</td>\n",
       "      <td>TCGA-A1-A0SF-01</td>\n",
       "      <td>IDC</td>\n",
       "      <td>Invasive Breast Carcinoma</td>\n",
       "      <td>Breast Invasive Ductal Carcinoma</td>\n",
       "      <td>Infiltrating Ductal Carcinoma</td>\n",
       "      <td>NaN</td>\n",
       "      <td>No</td>\n",
       "      <td>Yes</td>\n",
       "      <td>A1</td>\n",
       "      <td>...</td>\n",
       "      <td>1.0</td>\n",
       "      <td>3.0</td>\n",
       "      <td>6.0</td>\n",
       "      <td>3.0</td>\n",
       "      <td>6.0</td>\n",
       "      <td>6.0</td>\n",
       "      <td>1.0</td>\n",
       "      <td>2.0</td>\n",
       "      <td>1.0</td>\n",
       "      <td>NaN</td>\n",
       "    </tr>\n",
       "  </tbody>\n",
       "</table>\n",
       "<p>5 rows × 364 columns</p>\n",
       "</div>"
      ],
      "text/plain": [
       "  #Patient Identifier Sample Identifier Oncotree Code  \\\n",
       "0        TCGA-3C-AALI   TCGA-3C-AALI-01           IDC   \n",
       "1        TCGA-3C-AALK   TCGA-3C-AALK-01           IDC   \n",
       "2        TCGA-4H-AAAK   TCGA-4H-AAAK-01           ILC   \n",
       "3        TCGA-5T-A9QA   TCGA-5T-A9QA-01        BRCNOS   \n",
       "4        TCGA-A1-A0SF   TCGA-A1-A0SF-01           IDC   \n",
       "\n",
       "                 Cancer Type               Cancer Type Detailed  \\\n",
       "0  Invasive Breast Carcinoma   Breast Invasive Ductal Carcinoma   \n",
       "1  Invasive Breast Carcinoma   Breast Invasive Ductal Carcinoma   \n",
       "2  Invasive Breast Carcinoma  Breast Invasive Lobular Carcinoma   \n",
       "3  Invasive Breast Carcinoma    Breast Invasive Carcinoma (NOS)   \n",
       "4  Invasive Breast Carcinoma   Breast Invasive Ductal Carcinoma   \n",
       "\n",
       "                       Tumor Type  Neoplasm Histologic Grade  \\\n",
       "0   Infiltrating Ductal Carcinoma                        NaN   \n",
       "1   Infiltrating Ductal Carcinoma                        NaN   \n",
       "2  Infiltrating Lobular Carcinoma                        NaN   \n",
       "3                           Other                        NaN   \n",
       "4   Infiltrating Ductal Carcinoma                        NaN   \n",
       "\n",
       "  Tissue Prospective Collection Indicator  \\\n",
       "0                                      No   \n",
       "1                                      No   \n",
       "2                                     Yes   \n",
       "3                                     Yes   \n",
       "4                                      No   \n",
       "\n",
       "  Tissue Retrospective Collection Indicator Tissue Source Site  ...  \\\n",
       "0                                       Yes                 3C  ...   \n",
       "1                                       Yes                 3C  ...   \n",
       "2                                        No                 4H  ...   \n",
       "3                                        No                 5T  ...   \n",
       "4                                       Yes                 A1  ...   \n",
       "\n",
       "  22_mutcount  3_mutcount 4_mutcount  5_mutcount  6_mutcount 7_mutcount  \\\n",
       "0         9.0        54.0       29.0        32.0        38.0       41.0   \n",
       "1         3.0         5.0        2.0         9.0         5.0        2.0   \n",
       "2         NaN         1.0        3.0         2.0         NaN        2.0   \n",
       "3         4.0         8.0        8.0         NaN         3.0        4.0   \n",
       "4         1.0         3.0        6.0         3.0         6.0        6.0   \n",
       "\n",
       "   8_mutcount 9_mutcount  X_mutcount  Y_mutcount  \n",
       "0        32.0       22.0        29.0         NaN  \n",
       "1         NaN        4.0         4.0         NaN  \n",
       "2         2.0        4.0         3.0         NaN  \n",
       "3         2.0        2.0        10.0         NaN  \n",
       "4         1.0        2.0         1.0         NaN  \n",
       "\n",
       "[5 rows x 364 columns]"
      ]
     },
     "execution_count": 2,
     "metadata": {},
     "output_type": "execute_result"
    }
   ],
   "source": [
    "df = pd.read_csv(\"brca_merged_data.csv\",index_col= 0)\n",
    "print(df.shape)\n",
    "df.head()"
   ]
  },
  {
   "cell_type": "code",
   "execution_count": 3,
   "metadata": {},
   "outputs": [
    {
     "data": {
      "text/plain": [
       "CTNNA1|alpha-Catenin                          876\n",
       "NKX2-1|TTF1                                   876\n",
       "CASP3|Caspase-3                               798\n",
       "CASP9|Caspase-9                               798\n",
       "PARP1|PARP1                                   798\n",
       "COPS5|JAB1                                    798\n",
       "PATIENT_ID                                      0\n",
       "SUBTYPE                                        79\n",
       "CANCER_TYPE_ACRONYM                             0\n",
       "OTHER_PATIENT_ID                                0\n",
       "AGE                                             0\n",
       "SEX                                             0\n",
       "AJCC_PATHOLOGIC_TUMOR_STAGE                     4\n",
       "AJCC_STAGING_EDITION                          117\n",
       "DAYS_LAST_FOLLOWUP                             85\n",
       "DAYS_TO_BIRTH                                  14\n",
       "DAYS_TO_INITIAL_PATHOLOGIC_DIAGNOSIS            0\n",
       "ETHNICITY                                     125\n",
       "FORM_COMPLETION_DATE                            0\n",
       "HISTORY_NEOADJUVANT_TRTYN                       0\n",
       "ICD_10                                          0\n",
       "ICD_O_3_HISTOLOGY                               0\n",
       "ICD_O_3_SITE                                    0\n",
       "INFORMED_CONSENT_VERIFIED                       0\n",
       "NEW_TUMOR_EVENT_AFTER_INITIAL_TREATMENT       158\n",
       "PATH_M_STAGE                                    0\n",
       "PATH_N_STAGE                                    0\n",
       "PATH_T_STAGE                                    0\n",
       "PERSON_NEOPLASM_CANCER_STATUS                 110\n",
       "PRIMARY_LYMPH_NODE_PRESENTATION_ASSESSMENT    277\n",
       "PRIOR_DX                                        1\n",
       "RACE                                           57\n",
       "RADIATION_THERAPY                              78\n",
       "WEIGHT                                        876\n",
       "CENTER                                          0\n",
       "IN_PANCANPATHWAYS_FREEZE                        0\n",
       "OS_STATUS                                       0\n",
       "OS_MONTHS                                       0\n",
       "DSS_STATUS                                     19\n",
       "DSS_MONTHS                                      1\n",
       "DFS_STATUS                                    121\n",
       "DFS_MONTHS                                    121\n",
       "PFS_STATUS                                      1\n",
       "PFS_MONTHS                                      1\n",
       "TTN                                           691\n",
       "PIK3CA                                        598\n",
       "TP53                                          584\n",
       "MUC16                                         764\n",
       "MAP3K1                                        801\n",
       "CDH1                                          778\n",
       "dtype: int64"
      ]
     },
     "execution_count": 3,
     "metadata": {},
     "output_type": "execute_result"
    }
   ],
   "source": [
    "df.isna().sum()[210:260]"
   ]
  },
  {
   "cell_type": "code",
   "execution_count": 4,
   "metadata": {},
   "outputs": [
    {
     "name": "stdout",
     "output_type": "stream",
     "text": [
      "Index(['#Patient Identifier', 'Sample Identifier', 'Oncotree Code',\n",
      "       'Cancer Type', 'Cancer Type Detailed', 'Tumor Type',\n",
      "       'Neoplasm Histologic Grade', 'Tissue Prospective Collection Indicator',\n",
      "       'Tissue Retrospective Collection Indicator', 'Tissue Source Site',\n",
      "       ...\n",
      "       '22_mutcount', '3_mutcount', '4_mutcount', '5_mutcount', '6_mutcount',\n",
      "       '7_mutcount', '8_mutcount', '9_mutcount', 'X_mutcount', 'Y_mutcount'],\n",
      "      dtype='object', length=364)\n"
     ]
    }
   ],
   "source": [
    "cols = df.columns\n",
    "\n",
    "print(cols)"
   ]
  },
  {
   "cell_type": "code",
   "execution_count": 5,
   "metadata": {},
   "outputs": [
    {
     "data": {
      "text/plain": [
       "<AxesSubplot:>"
      ]
     },
     "execution_count": 5,
     "metadata": {},
     "output_type": "execute_result"
    },
    {
     "data": {
      "image/png": "[encoded data removed]",
      "text/plain": [
       "<Figure size 432x288 with 1 Axes>"
      ]
     },
     "metadata": {
      "needs_background": "light"
     },
     "output_type": "display_data"
    }
   ],
   "source": [
    "df['OS_MONTHS'].hist()"
   ]
  },
  {
   "cell_type": "code",
   "execution_count": 6,
   "metadata": {},
   "outputs": [
    {
     "data": {
      "text/plain": [
       "0      131.669790\n",
       "1       47.604958\n",
       "2       11.440971\n",
       "3        9.961535\n",
       "4       48.098103\n",
       "          ...    \n",
       "871     11.408094\n",
       "872     52.963803\n",
       "873     15.353256\n",
       "874      5.950620\n",
       "875    107.045402\n",
       "Name: PFS_MONTHS, Length: 876, dtype: float64"
      ]
     },
     "execution_count": 6,
     "metadata": {},
     "output_type": "execute_result"
    }
   ],
   "source": [
    "df['PFS_MONTHS']#.hist(by=\"OS_STATUS\")"
   ]
  },
  {
   "cell_type": "code",
   "execution_count": 7,
   "metadata": {},
   "outputs": [
    {
     "data": {
      "text/plain": [
       "<AxesSubplot:>"
      ]
     },
     "execution_count": 7,
     "metadata": {},
     "output_type": "execute_result"
    },
    {
     "data": {
      "image/png": "[encoded data removed]",
      "text/plain": [
       "<Figure size 432x288 with 1 Axes>"
      ]
     },
     "metadata": {
      "needs_background": "light"
     },
     "output_type": "display_data"
    }
   ],
   "source": [
    "df['DFS_MONTHS'].hist()"
   ]
  },
  {
   "cell_type": "markdown",
   "metadata": {},
   "source": [
    "# Make list of subset of columns that will need to be modeled"
   ]
  },
  {
   "cell_type": "code",
   "execution_count": 8,
   "metadata": {},
   "outputs": [],
   "source": [
    "model_cols = list(df.columns[18:209])\n",
    "model_cols.extend([\"AGE\",\"SEX\",\"RACE\",\"TMB (nonsynonymous)\"])\n",
    "model_cols.extend(list(df.columns[248:321]))"
   ]
  },
  {
   "cell_type": "code",
   "execution_count": 9,
   "metadata": {},
   "outputs": [],
   "source": [
    "#df.columns[248:321]"
   ]
  },
  {
   "cell_type": "code",
   "execution_count": 10,
   "metadata": {},
   "outputs": [],
   "source": [
    "#df.columns[290:321]"
   ]
  },
  {
   "cell_type": "code",
   "execution_count": 11,
   "metadata": {},
   "outputs": [],
   "source": [
    "#model_cols"
   ]
  },
  {
   "cell_type": "code",
   "execution_count": 12,
   "metadata": {},
   "outputs": [],
   "source": [
    "#unsure = [9]"
   ]
  },
  {
   "cell_type": "markdown",
   "metadata": {},
   "source": [
    "## Questions\n",
    "\n"
   ]
  },
  {
   "cell_type": "code",
   "execution_count": 13,
   "metadata": {},
   "outputs": [],
   "source": [
    "#TMB is total number of mutations\n",
    "\n",
    "#keep_idx = [2,9,11,13,14,16]\n",
    "#keep = [\"Oncotree Code\",\"Tissue Source Site\", \"Aneuploidy Score\",\"MSI MANTIS Score\",\"TMB (nonsynonymous)\"]\n",
    "\n",
    "#keep all cols between 18:216"
   ]
  },
  {
   "cell_type": "code",
   "execution_count": 14,
   "metadata": {},
   "outputs": [],
   "source": [
    "#cols_to_drop = [0,1,3,4,5,6,7,8,10,12,15,17]"
   ]
  },
  {
   "cell_type": "code",
   "execution_count": 15,
   "metadata": {},
   "outputs": [],
   "source": [
    "#df.iloc[:,6]"
   ]
  },
  {
   "cell_type": "code",
   "execution_count": 16,
   "metadata": {},
   "outputs": [],
   "source": [
    "#df.iloc[:5,250:260]"
   ]
  },
  {
   "cell_type": "code",
   "execution_count": 17,
   "metadata": {},
   "outputs": [],
   "source": [
    "#'DFS_STATUS', 'DFS_MONTHS', 'PFS_STATUS', 'PFS_MONTHS'"
   ]
  },
  {
   "cell_type": "code",
   "execution_count": 18,
   "metadata": {},
   "outputs": [
    {
     "data": {
      "text/plain": [
       "<AxesSubplot:>"
      ]
     },
     "execution_count": 18,
     "metadata": {},
     "output_type": "execute_result"
    },
    {
     "data": {
      "image/png": "[encoded data removed]",
      "text/plain": [
       "<Figure size 432x288 with 1 Axes>"
      ]
     },
     "metadata": {
      "needs_background": "light"
     },
     "output_type": "display_data"
    }
   ],
   "source": [
    "df[\"DSS_MONTHS\"].hist()"
   ]
  },
  {
   "cell_type": "code",
   "execution_count": 19,
   "metadata": {},
   "outputs": [
    {
     "data": {
      "text/plain": [
       "PRDX1|PRDX1                      0\n",
       "RAB11A RAB11B|Rab11              0\n",
       "RAB25|Rab25                      0\n",
       "RPTOR|Raptor                     0\n",
       "RBM15|RBM15                      0\n",
       "RICTOR|Rictor                    0\n",
       "RICTOR|Rictor_pT1135             0\n",
       "SCD1|SCD1                        0\n",
       "SRSF1|SF2                        0\n",
       "WWTR1|TAZ                        0\n",
       "TIGAR|TIGAR                      0\n",
       "TGM2|Transglutaminase            0\n",
       "TFRC|TFRC                        0\n",
       "TSC1|TSC1                        0\n",
       "TSC2|Tuberin_pT1462              0\n",
       "VHL|VHL                          0\n",
       "XBP1|XBP1                        0\n",
       "TUBA1B|Acetyl-a-Tubulin-Lys40    0\n",
       "SQSTM1|p62-LCK-ligand            0\n",
       "YWHAB|14-3-3_beta                0\n",
       "YWHAZ|14-3-3_zeta                0\n",
       "ACVRL1|ACVRL1                    0\n",
       "DIRAS3|DIRAS3                    0\n",
       "ANXA1|Annexin-1                  0\n",
       "PREX1|PREX1                      0\n",
       "ERCC1|ERCC1                      0\n",
       "MSH2|MSH2                        0\n",
       "MSH6|MSH6                        0\n",
       "DIABLO|Smac                      0\n",
       "dtype: int64"
      ]
     },
     "execution_count": 19,
     "metadata": {},
     "output_type": "execute_result"
    }
   ],
   "source": [
    "df.iloc[:,180:209].isna().sum()"
   ]
  },
  {
   "cell_type": "markdown",
   "metadata": {
    "tags": []
   },
   "source": [
    "# Variable Selection\n",
    "\n",
    "- Patient characteristics\n",
    "- mutation data\n",
    "- rppa data\n",
    "- others?\n",
    "\n",
    "\n",
    "\n",
    "# Target Variable\n",
    "\n",
    "- \"DSS_STATUS\"\n",
    "- others?\n"
   ]
  },
  {
   "cell_type": "code",
   "execution_count": 20,
   "metadata": {},
   "outputs": [
    {
     "data": {
      "text/plain": [
       "19"
      ]
     },
     "execution_count": 20,
     "metadata": {},
     "output_type": "execute_result"
    }
   ],
   "source": [
    "df[\"DSS_STATUS\"].value_counts()\n",
    "df[\"DSS_STATUS\"].isna().sum()\n",
    "#notes we are assuming the person dies of cancer\n",
    "# this might be our only option"
   ]
  },
  {
   "cell_type": "markdown",
   "metadata": {},
   "source": [
    "# Variable Selection\n",
    "\n",
    "- WEIGHT is missing for all \n",
    "- \"ETHNICITY\" is missing for many \"ETHNICITY\""
   ]
  },
  {
   "cell_type": "code",
   "execution_count": 21,
   "metadata": {},
   "outputs": [],
   "source": [
    "#model_cols.extend([\"AGE\",\"Aneuploidy Score\",\"MSI MANTIS Score\",\"TMB (nonsynonymous)\",\"DSS_STATUS\"])"
   ]
  },
  {
   "cell_type": "code",
   "execution_count": 22,
   "metadata": {},
   "outputs": [],
   "source": [
    "df_model = df.loc[:,model_cols]"
   ]
  },
  {
   "cell_type": "code",
   "execution_count": 26,
   "metadata": {},
   "outputs": [],
   "source": [
    "#remove nonoutcome variables\n",
    "##'DFS_STATUS', 'DFS_MONTHS', 'PFS_STATUS', 'PFS_MONTHS'\n",
    "\n",
    "df_model.drop(['DSS_STATUS','DFS_STATUS','PFS_STATUS', 'PFS_MONTHS'],axis=1,inplace=True)"
   ]
  },
  {
   "cell_type": "code",
   "execution_count": 27,
   "metadata": {},
   "outputs": [
    {
     "data": {
      "text/plain": [
       "0      131.669790\n",
       "1       47.604958\n",
       "2       11.440971\n",
       "3        9.961535\n",
       "4       48.098103\n",
       "          ...    \n",
       "871     11.408094\n",
       "872     52.963803\n",
       "873     15.353256\n",
       "874    108.064569\n",
       "875    107.045402\n",
       "Name: DSS_MONTHS, Length: 876, dtype: float64"
      ]
     },
     "execution_count": 27,
     "metadata": {},
     "output_type": "execute_result"
    }
   ],
   "source": [
    "df_model['DSS_MONTHS']"
   ]
  },
  {
   "cell_type": "code",
   "execution_count": 28,
   "metadata": {},
   "outputs": [
    {
     "data": {
      "text/plain": [
       "(876, 264)"
      ]
     },
     "execution_count": 28,
     "metadata": {},
     "output_type": "execute_result"
    }
   ],
   "source": [
    "df_model.shape"
   ]
  },
  {
   "cell_type": "code",
   "execution_count": 29,
   "metadata": {},
   "outputs": [
    {
     "data": {
      "text/plain": [
       "69"
      ]
     },
     "execution_count": 29,
     "metadata": {},
     "output_type": "execute_result"
    }
   ],
   "source": [
    "sum(df_model.isna().sum() > 100)"
   ]
  },
  {
   "cell_type": "code",
   "execution_count": 30,
   "metadata": {},
   "outputs": [],
   "source": [
    "df_model.dropna(axis= 1,thresh=100,inplace=True)"
   ]
  },
  {
   "cell_type": "code",
   "execution_count": 32,
   "metadata": {},
   "outputs": [
    {
     "data": {
      "text/plain": [
       "(876, 202)"
      ]
     },
     "execution_count": 32,
     "metadata": {},
     "output_type": "execute_result"
    }
   ],
   "source": [
    "df_model.shape"
   ]
  },
  {
   "cell_type": "markdown",
   "metadata": {},
   "source": [
    "# Drop rows with missing outcome variable"
   ]
  },
  {
   "cell_type": "code",
   "execution_count": 33,
   "metadata": {},
   "outputs": [],
   "source": [
    "df_model.dropna(axis = 0, subset= [\"DSS_MONTHS\"],inplace=True)"
   ]
  },
  {
   "cell_type": "code",
   "execution_count": 34,
   "metadata": {},
   "outputs": [
    {
     "data": {
      "text/plain": [
       "(875, 202)"
      ]
     },
     "execution_count": 34,
     "metadata": {},
     "output_type": "execute_result"
    }
   ],
   "source": [
    "df_model.shape"
   ]
  },
  {
   "cell_type": "markdown",
   "metadata": {},
   "source": [
    "# Define X and Y values"
   ]
  },
  {
   "cell_type": "code",
   "execution_count": 36,
   "metadata": {},
   "outputs": [],
   "source": [
    "# map_dict = {\"0:ALIVE OR DEAD TUMOR FREE\" : int(0),\n",
    "#             \"1:DEAD WITH TUMOR\" : int(1)\n",
    "#            }\n",
    "\n",
    "\n",
    "X = df_model.drop(labels= ['DSS_MONTHS'], axis=1)\n",
    "y = df_model[\"DSS_MONTHS\"]\n",
    "\n"
   ]
  },
  {
   "cell_type": "code",
   "execution_count": 37,
   "metadata": {},
   "outputs": [
    {
     "data": {
      "text/plain": [
       "0.000000      11\n",
       "0.328764      11\n",
       "12.657396      7\n",
       "9.994411       5\n",
       "12.328632      5\n",
       "              ..\n",
       "120.327448     1\n",
       "99.779728      1\n",
       "118.585002     1\n",
       "2.761614       1\n",
       "107.045402     1\n",
       "Name: DSS_MONTHS, Length: 694, dtype: int64"
      ]
     },
     "execution_count": 37,
     "metadata": {},
     "output_type": "execute_result"
    }
   ],
   "source": [
    "y.value_counts()"
   ]
  },
  {
   "cell_type": "code",
   "execution_count": 38,
   "metadata": {},
   "outputs": [],
   "source": [
    "#get dummy variables\n",
    "\n",
    "X = pd.get_dummies(X)"
   ]
  },
  {
   "cell_type": "code",
   "execution_count": null,
   "metadata": {},
   "outputs": [],
   "source": []
  },
  {
   "cell_type": "code",
   "execution_count": null,
   "metadata": {},
   "outputs": [],
   "source": []
  },
  {
   "cell_type": "code",
   "execution_count": null,
   "metadata": {},
   "outputs": [],
   "source": []
  },
  {
   "cell_type": "markdown",
   "metadata": {},
   "source": [
    "# import and start very basic models\n",
    "\n",
    "https://scikit-learn.org/stable/model_selection.html#model-selection"
   ]
  },
  {
   "cell_type": "code",
   "execution_count": 40,
   "metadata": {},
   "outputs": [],
   "source": [
    "X_train, X_test, y_train, y_test = train_test_split(X, y, test_size=0.33, random_state=0)"
   ]
  },
  {
   "cell_type": "code",
   "execution_count": 41,
   "metadata": {},
   "outputs": [
    {
     "data": {
      "text/plain": [
       "((586, 205), (289, 205), (586,), (289,))"
      ]
     },
     "execution_count": 41,
     "metadata": {},
     "output_type": "execute_result"
    }
   ],
   "source": [
    "X_train.shape, X_test.shape, y_train.shape, y_test.shape"
   ]
  },
  {
   "cell_type": "code",
   "execution_count": 42,
   "metadata": {},
   "outputs": [
    {
     "data": {
      "text/html": [
       "<div>\n",
       "<style scoped>\n",
       "    .dataframe tbody tr th:only-of-type {\n",
       "        vertical-align: middle;\n",
       "    }\n",
       "\n",
       "    .dataframe tbody tr th {\n",
       "        vertical-align: top;\n",
       "    }\n",
       "\n",
       "    .dataframe thead th {\n",
       "        text-align: right;\n",
       "    }\n",
       "</style>\n",
       "<table border=\"1\" class=\"dataframe\">\n",
       "  <thead>\n",
       "    <tr style=\"text-align: right;\">\n",
       "      <th></th>\n",
       "      <th>YWHAE|14-3-3_epsilon</th>\n",
       "      <th>EIF4EBP1|4E-BP1</th>\n",
       "      <th>EIF4EBP1|4E-BP1_pS65</th>\n",
       "      <th>EIF4EBP1|4E-BP1_pT37T46</th>\n",
       "      <th>TP53BP1|53BP1</th>\n",
       "      <th>ACACA ACACB|ACC_pS79</th>\n",
       "      <th>ACACA|ACC1</th>\n",
       "      <th>AKT1 AKT2 AKT3|Akt</th>\n",
       "      <th>AKT1 AKT2 AKT3|Akt_pS473</th>\n",
       "      <th>AKT1 AKT2 AKT3|Akt_pT308</th>\n",
       "      <th>...</th>\n",
       "      <th>PIK3CA</th>\n",
       "      <th>TP53</th>\n",
       "      <th>MUC16</th>\n",
       "      <th>GATA3</th>\n",
       "      <th>SEX_Female</th>\n",
       "      <th>SEX_Male</th>\n",
       "      <th>RACE_American Indian or Alaska Native</th>\n",
       "      <th>RACE_Asian</th>\n",
       "      <th>RACE_Black or African American</th>\n",
       "      <th>RACE_White</th>\n",
       "    </tr>\n",
       "  </thead>\n",
       "  <tbody>\n",
       "    <tr>\n",
       "      <th>198</th>\n",
       "      <td>-0.990314</td>\n",
       "      <td>0.119355</td>\n",
       "      <td>0.039712</td>\n",
       "      <td>0.735198</td>\n",
       "      <td>1.750477</td>\n",
       "      <td>0.220708</td>\n",
       "      <td>1.673489</td>\n",
       "      <td>1.223704</td>\n",
       "      <td>-0.322622</td>\n",
       "      <td>0.083936</td>\n",
       "      <td>...</td>\n",
       "      <td>NaN</td>\n",
       "      <td>NaN</td>\n",
       "      <td>NaN</td>\n",
       "      <td>NaN</td>\n",
       "      <td>1</td>\n",
       "      <td>0</td>\n",
       "      <td>0</td>\n",
       "      <td>0</td>\n",
       "      <td>1</td>\n",
       "      <td>0</td>\n",
       "    </tr>\n",
       "    <tr>\n",
       "      <th>391</th>\n",
       "      <td>-0.658841</td>\n",
       "      <td>0.248347</td>\n",
       "      <td>-0.434210</td>\n",
       "      <td>0.059213</td>\n",
       "      <td>1.799204</td>\n",
       "      <td>-0.812172</td>\n",
       "      <td>0.515900</td>\n",
       "      <td>1.435814</td>\n",
       "      <td>-0.985808</td>\n",
       "      <td>-0.177287</td>\n",
       "      <td>...</td>\n",
       "      <td>2.0</td>\n",
       "      <td>2.0</td>\n",
       "      <td>NaN</td>\n",
       "      <td>NaN</td>\n",
       "      <td>1</td>\n",
       "      <td>0</td>\n",
       "      <td>0</td>\n",
       "      <td>0</td>\n",
       "      <td>0</td>\n",
       "      <td>1</td>\n",
       "    </tr>\n",
       "    <tr>\n",
       "      <th>651</th>\n",
       "      <td>-0.806233</td>\n",
       "      <td>-0.054848</td>\n",
       "      <td>-0.178213</td>\n",
       "      <td>0.441997</td>\n",
       "      <td>2.128327</td>\n",
       "      <td>-0.257106</td>\n",
       "      <td>1.217090</td>\n",
       "      <td>1.076755</td>\n",
       "      <td>-1.055593</td>\n",
       "      <td>-0.318378</td>\n",
       "      <td>...</td>\n",
       "      <td>NaN</td>\n",
       "      <td>NaN</td>\n",
       "      <td>NaN</td>\n",
       "      <td>1.0</td>\n",
       "      <td>1</td>\n",
       "      <td>0</td>\n",
       "      <td>0</td>\n",
       "      <td>0</td>\n",
       "      <td>0</td>\n",
       "      <td>1</td>\n",
       "    </tr>\n",
       "    <tr>\n",
       "      <th>603</th>\n",
       "      <td>-1.055014</td>\n",
       "      <td>0.170923</td>\n",
       "      <td>-0.214789</td>\n",
       "      <td>0.514688</td>\n",
       "      <td>1.387882</td>\n",
       "      <td>0.355671</td>\n",
       "      <td>1.463838</td>\n",
       "      <td>1.324748</td>\n",
       "      <td>-1.299753</td>\n",
       "      <td>-0.553271</td>\n",
       "      <td>...</td>\n",
       "      <td>1.0</td>\n",
       "      <td>NaN</td>\n",
       "      <td>NaN</td>\n",
       "      <td>NaN</td>\n",
       "      <td>1</td>\n",
       "      <td>0</td>\n",
       "      <td>0</td>\n",
       "      <td>0</td>\n",
       "      <td>0</td>\n",
       "      <td>1</td>\n",
       "    </tr>\n",
       "    <tr>\n",
       "      <th>862</th>\n",
       "      <td>-0.861629</td>\n",
       "      <td>0.171360</td>\n",
       "      <td>0.958391</td>\n",
       "      <td>1.057411</td>\n",
       "      <td>2.902037</td>\n",
       "      <td>-0.468534</td>\n",
       "      <td>1.232014</td>\n",
       "      <td>0.426919</td>\n",
       "      <td>-2.130823</td>\n",
       "      <td>-0.860812</td>\n",
       "      <td>...</td>\n",
       "      <td>NaN</td>\n",
       "      <td>1.0</td>\n",
       "      <td>NaN</td>\n",
       "      <td>NaN</td>\n",
       "      <td>1</td>\n",
       "      <td>0</td>\n",
       "      <td>0</td>\n",
       "      <td>0</td>\n",
       "      <td>1</td>\n",
       "      <td>0</td>\n",
       "    </tr>\n",
       "    <tr>\n",
       "      <th>...</th>\n",
       "      <td>...</td>\n",
       "      <td>...</td>\n",
       "      <td>...</td>\n",
       "      <td>...</td>\n",
       "      <td>...</td>\n",
       "      <td>...</td>\n",
       "      <td>...</td>\n",
       "      <td>...</td>\n",
       "      <td>...</td>\n",
       "      <td>...</td>\n",
       "      <td>...</td>\n",
       "      <td>...</td>\n",
       "      <td>...</td>\n",
       "      <td>...</td>\n",
       "      <td>...</td>\n",
       "      <td>...</td>\n",
       "      <td>...</td>\n",
       "      <td>...</td>\n",
       "      <td>...</td>\n",
       "      <td>...</td>\n",
       "      <td>...</td>\n",
       "    </tr>\n",
       "    <tr>\n",
       "      <th>836</th>\n",
       "      <td>-0.742803</td>\n",
       "      <td>1.173798</td>\n",
       "      <td>-0.188263</td>\n",
       "      <td>0.401892</td>\n",
       "      <td>1.607271</td>\n",
       "      <td>-0.012225</td>\n",
       "      <td>1.110279</td>\n",
       "      <td>0.390308</td>\n",
       "      <td>-1.656083</td>\n",
       "      <td>-0.743574</td>\n",
       "      <td>...</td>\n",
       "      <td>NaN</td>\n",
       "      <td>1.0</td>\n",
       "      <td>NaN</td>\n",
       "      <td>NaN</td>\n",
       "      <td>1</td>\n",
       "      <td>0</td>\n",
       "      <td>0</td>\n",
       "      <td>0</td>\n",
       "      <td>1</td>\n",
       "      <td>0</td>\n",
       "    </tr>\n",
       "    <tr>\n",
       "      <th>192</th>\n",
       "      <td>-0.809559</td>\n",
       "      <td>-0.304298</td>\n",
       "      <td>0.000493</td>\n",
       "      <td>0.530625</td>\n",
       "      <td>2.296848</td>\n",
       "      <td>1.390886</td>\n",
       "      <td>2.725905</td>\n",
       "      <td>1.124609</td>\n",
       "      <td>-0.216770</td>\n",
       "      <td>0.293507</td>\n",
       "      <td>...</td>\n",
       "      <td>NaN</td>\n",
       "      <td>NaN</td>\n",
       "      <td>NaN</td>\n",
       "      <td>NaN</td>\n",
       "      <td>1</td>\n",
       "      <td>0</td>\n",
       "      <td>0</td>\n",
       "      <td>0</td>\n",
       "      <td>0</td>\n",
       "      <td>1</td>\n",
       "    </tr>\n",
       "    <tr>\n",
       "      <th>630</th>\n",
       "      <td>-0.924149</td>\n",
       "      <td>0.848702</td>\n",
       "      <td>0.029614</td>\n",
       "      <td>1.310954</td>\n",
       "      <td>1.715180</td>\n",
       "      <td>1.030785</td>\n",
       "      <td>2.409577</td>\n",
       "      <td>0.786120</td>\n",
       "      <td>-0.404081</td>\n",
       "      <td>0.219128</td>\n",
       "      <td>...</td>\n",
       "      <td>NaN</td>\n",
       "      <td>1.0</td>\n",
       "      <td>NaN</td>\n",
       "      <td>NaN</td>\n",
       "      <td>1</td>\n",
       "      <td>0</td>\n",
       "      <td>0</td>\n",
       "      <td>0</td>\n",
       "      <td>0</td>\n",
       "      <td>1</td>\n",
       "    </tr>\n",
       "    <tr>\n",
       "      <th>560</th>\n",
       "      <td>-0.982632</td>\n",
       "      <td>0.928159</td>\n",
       "      <td>0.231837</td>\n",
       "      <td>1.237008</td>\n",
       "      <td>2.151961</td>\n",
       "      <td>1.939708</td>\n",
       "      <td>3.183966</td>\n",
       "      <td>1.339294</td>\n",
       "      <td>0.897570</td>\n",
       "      <td>1.688426</td>\n",
       "      <td>...</td>\n",
       "      <td>NaN</td>\n",
       "      <td>NaN</td>\n",
       "      <td>NaN</td>\n",
       "      <td>NaN</td>\n",
       "      <td>1</td>\n",
       "      <td>0</td>\n",
       "      <td>0</td>\n",
       "      <td>0</td>\n",
       "      <td>0</td>\n",
       "      <td>1</td>\n",
       "    </tr>\n",
       "    <tr>\n",
       "      <th>685</th>\n",
       "      <td>-0.698682</td>\n",
       "      <td>0.583841</td>\n",
       "      <td>0.018383</td>\n",
       "      <td>0.876792</td>\n",
       "      <td>2.638360</td>\n",
       "      <td>0.262692</td>\n",
       "      <td>1.190118</td>\n",
       "      <td>1.320448</td>\n",
       "      <td>-0.654006</td>\n",
       "      <td>0.082217</td>\n",
       "      <td>...</td>\n",
       "      <td>NaN</td>\n",
       "      <td>1.0</td>\n",
       "      <td>NaN</td>\n",
       "      <td>NaN</td>\n",
       "      <td>1</td>\n",
       "      <td>0</td>\n",
       "      <td>0</td>\n",
       "      <td>0</td>\n",
       "      <td>0</td>\n",
       "      <td>1</td>\n",
       "    </tr>\n",
       "  </tbody>\n",
       "</table>\n",
       "<p>586 rows × 205 columns</p>\n",
       "</div>"
      ],
      "text/plain": [
       "     YWHAE|14-3-3_epsilon  EIF4EBP1|4E-BP1  EIF4EBP1|4E-BP1_pS65  \\\n",
       "198             -0.990314         0.119355              0.039712   \n",
       "391             -0.658841         0.248347             -0.434210   \n",
       "651             -0.806233        -0.054848             -0.178213   \n",
       "603             -1.055014         0.170923             -0.214789   \n",
       "862             -0.861629         0.171360              0.958391   \n",
       "..                    ...              ...                   ...   \n",
       "836             -0.742803         1.173798             -0.188263   \n",
       "192             -0.809559        -0.304298              0.000493   \n",
       "630             -0.924149         0.848702              0.029614   \n",
       "560             -0.982632         0.928159              0.231837   \n",
       "685             -0.698682         0.583841              0.018383   \n",
       "\n",
       "     EIF4EBP1|4E-BP1_pT37T46  TP53BP1|53BP1  ACACA ACACB|ACC_pS79  ACACA|ACC1  \\\n",
       "198                 0.735198       1.750477              0.220708    1.673489   \n",
       "391                 0.059213       1.799204             -0.812172    0.515900   \n",
       "651                 0.441997       2.128327             -0.257106    1.217090   \n",
       "603                 0.514688       1.387882              0.355671    1.463838   \n",
       "862                 1.057411       2.902037             -0.468534    1.232014   \n",
       "..                       ...            ...                   ...         ...   \n",
       "836                 0.401892       1.607271             -0.012225    1.110279   \n",
       "192                 0.530625       2.296848              1.390886    2.725905   \n",
       "630                 1.310954       1.715180              1.030785    2.409577   \n",
       "560                 1.237008       2.151961              1.939708    3.183966   \n",
       "685                 0.876792       2.638360              0.262692    1.190118   \n",
       "\n",
       "     AKT1 AKT2 AKT3|Akt  AKT1 AKT2 AKT3|Akt_pS473  AKT1 AKT2 AKT3|Akt_pT308  \\\n",
       "198            1.223704                 -0.322622                  0.083936   \n",
       "391            1.435814                 -0.985808                 -0.177287   \n",
       "651            1.076755                 -1.055593                 -0.318378   \n",
       "603            1.324748                 -1.299753                 -0.553271   \n",
       "862            0.426919                 -2.130823                 -0.860812   \n",
       "..                  ...                       ...                       ...   \n",
       "836            0.390308                 -1.656083                 -0.743574   \n",
       "192            1.124609                 -0.216770                  0.293507   \n",
       "630            0.786120                 -0.404081                  0.219128   \n",
       "560            1.339294                  0.897570                  1.688426   \n",
       "685            1.320448                 -0.654006                  0.082217   \n",
       "\n",
       "     ...  PIK3CA  TP53  MUC16  GATA3  SEX_Female  SEX_Male  \\\n",
       "198  ...     NaN   NaN    NaN    NaN           1         0   \n",
       "391  ...     2.0   2.0    NaN    NaN           1         0   \n",
       "651  ...     NaN   NaN    NaN    1.0           1         0   \n",
       "603  ...     1.0   NaN    NaN    NaN           1         0   \n",
       "862  ...     NaN   1.0    NaN    NaN           1         0   \n",
       "..   ...     ...   ...    ...    ...         ...       ...   \n",
       "836  ...     NaN   1.0    NaN    NaN           1         0   \n",
       "192  ...     NaN   NaN    NaN    NaN           1         0   \n",
       "630  ...     NaN   1.0    NaN    NaN           1         0   \n",
       "560  ...     NaN   NaN    NaN    NaN           1         0   \n",
       "685  ...     NaN   1.0    NaN    NaN           1         0   \n",
       "\n",
       "     RACE_American Indian or Alaska Native  RACE_Asian  \\\n",
       "198                                      0           0   \n",
       "391                                      0           0   \n",
       "651                                      0           0   \n",
       "603                                      0           0   \n",
       "862                                      0           0   \n",
       "..                                     ...         ...   \n",
       "836                                      0           0   \n",
       "192                                      0           0   \n",
       "630                                      0           0   \n",
       "560                                      0           0   \n",
       "685                                      0           0   \n",
       "\n",
       "     RACE_Black or African American  RACE_White  \n",
       "198                               1           0  \n",
       "391                               0           1  \n",
       "651                               0           1  \n",
       "603                               0           1  \n",
       "862                               1           0  \n",
       "..                              ...         ...  \n",
       "836                               1           0  \n",
       "192                               0           1  \n",
       "630                               0           1  \n",
       "560                               0           1  \n",
       "685                               0           1  \n",
       "\n",
       "[586 rows x 205 columns]"
      ]
     },
     "execution_count": 42,
     "metadata": {},
     "output_type": "execute_result"
    }
   ],
   "source": [
    "X_train"
   ]
  },
  {
   "cell_type": "markdown",
   "metadata": {},
   "source": [
    "# Preprocessing\n",
    "\n",
    "- https://scikit-learn.org/stable/modules/preprocessing.html#preprocessing\n",
    "\n",
    "- Imputing missing_data  https://scikit-learn.org/stable/modules/preprocessing.html#imputation-of-missing-values\n",
    "- https://scikit-learn.org/stable/auto_examples/impute/plot_missing_values.html#sphx-glr-auto-examples-impute-plot-missing-values-py\n",
    "- scaling data\n",
    "- PCA (on mutations things like that) or combine them all into one... This would reduce interpretability?\n",
    "- SMOTE imbalanced dataset\n",
    "- polynomial features\n",
    "- enhanced variable selection? ENET or other automated option https://scikit-learn.org/stable/modules/feature_selection.html#feature-selection"
   ]
  },
  {
   "cell_type": "markdown",
   "metadata": {},
   "source": [
    "# Modeling\n",
    "\n",
    "- Decision Tree \n",
    "- KNN\n",
    "- logistic regression\n",
    "- gradient boosting\n",
    "- ensemble\n",
    "- others"
   ]
  },
  {
   "cell_type": "markdown",
   "metadata": {},
   "source": [
    "# Model Evaluation"
   ]
  },
  {
   "cell_type": "markdown",
   "metadata": {},
   "source": [
    "# PIPELINE DEFINE"
   ]
  },
  {
   "cell_type": "code",
   "execution_count": 213,
   "metadata": {},
   "outputs": [],
   "source": [
    "sensitivity = make_scorer(recall_score, pos_label=1)\n",
    "specificity = make_scorer(recall_score, pos_label=0)\n",
    "PPV = make_scorer(precision_score, pos_label=1)\n",
    "NPV = make_scorer(precision_score, pos_label=0)\n",
    "MCC = make_scorer(matthews_corrcoef)\n",
    "score_metrics = {'roc_auc':'roc_auc','accuracy':'accuracy','MCC':MCC,\n",
    "                 'bal_acc':'balanced_accuracy', 'sensitivity' : sensitivity,\n",
    "                 'specificity': specificity,'PPV': PPV, 'NPV' : NPV, 'f1':'f1'}"
   ]
  },
  {
   "cell_type": "code",
   "execution_count": 54,
   "metadata": {},
   "outputs": [],
   "source": [
    "reg_metric = {'rmse' : 'neg_mean_squared_error',\n",
    "              'r2': 'r2',\n",
    "              'neg_MAE': \"neg_mean_absolute_error\"\n",
    "             }"
   ]
  },
  {
   "cell_type": "code",
   "execution_count": 55,
   "metadata": {},
   "outputs": [],
   "source": [
    "# define pipeline\n",
    "\n",
    "\n",
    "imp = SimpleImputer(strategy=\"most_frequent\") #IterativeImputer(max_iter=100, random_state=0)\n",
    "scale = StandardScaler()\n",
    "#over = SMOTE(random_state=0)\n",
    "\n",
    "model = LinearRegression()\n",
    "\n",
    "#defining steps in pipeline\n",
    "steps = [('impute',imp),('scale', scale), ('model', model)]\n",
    "pipeline = Pipeline(steps=steps, verbose=3)\n",
    "\n"
   ]
  },
  {
   "cell_type": "code",
   "execution_count": 56,
   "metadata": {},
   "outputs": [
    {
     "name": "stderr",
     "output_type": "stream",
     "text": [
      "[Parallel(n_jobs=5)]: Using backend LokyBackend with 5 concurrent workers.\n",
      "[Parallel(n_jobs=5)]: Done  10 out of  10 | elapsed:    0.1s finished\n"
     ]
    }
   ],
   "source": [
    "scores = cross_validate(pipeline, X_train, y_train, cv=10,\n",
    "                        scoring=reg_metric,\n",
    "                        return_train_score=False, \n",
    "                        verbose=1,n_jobs=5)"
   ]
  },
  {
   "cell_type": "code",
   "execution_count": null,
   "metadata": {},
   "outputs": [],
   "source": []
  },
  {
   "cell_type": "code",
   "execution_count": 57,
   "metadata": {},
   "outputs": [],
   "source": [
    "#Evaluate the model\n",
    "# scores = cross_validate(pipeline, X_train, y_train, cv=10,\n",
    "#                         scoring=score_metrics,\n",
    "#                         return_train_score=False, \n",
    "#                         verbose=1,n_jobs=5)"
   ]
  },
  {
   "cell_type": "code",
   "execution_count": 58,
   "metadata": {},
   "outputs": [],
   "source": [
    "score_df = pd.DataFrame(scores)"
   ]
  },
  {
   "cell_type": "code",
   "execution_count": 59,
   "metadata": {},
   "outputs": [
    {
     "data": {
      "text/html": [
       "<div>\n",
       "<style scoped>\n",
       "    .dataframe tbody tr th:only-of-type {\n",
       "        vertical-align: middle;\n",
       "    }\n",
       "\n",
       "    .dataframe tbody tr th {\n",
       "        vertical-align: top;\n",
       "    }\n",
       "\n",
       "    .dataframe thead th {\n",
       "        text-align: right;\n",
       "    }\n",
       "</style>\n",
       "<table border=\"1\" class=\"dataframe\">\n",
       "  <thead>\n",
       "    <tr style=\"text-align: right;\">\n",
       "      <th></th>\n",
       "      <th>fit_time</th>\n",
       "      <th>score_time</th>\n",
       "      <th>test_rmse</th>\n",
       "      <th>test_r2</th>\n",
       "      <th>test_neg_MAE</th>\n",
       "    </tr>\n",
       "  </thead>\n",
       "  <tbody>\n",
       "    <tr>\n",
       "      <th>count</th>\n",
       "      <td>10.000000</td>\n",
       "      <td>10.000000</td>\n",
       "      <td>10.000000</td>\n",
       "      <td>10.000000</td>\n",
       "      <td>10.000000</td>\n",
       "    </tr>\n",
       "    <tr>\n",
       "      <th>mean</th>\n",
       "      <td>0.045902</td>\n",
       "      <td>0.004800</td>\n",
       "      <td>-919.174110</td>\n",
       "      <td>0.243465</td>\n",
       "      <td>-21.233572</td>\n",
       "    </tr>\n",
       "    <tr>\n",
       "      <th>std</th>\n",
       "      <td>0.004515</td>\n",
       "      <td>0.000789</td>\n",
       "      <td>349.970001</td>\n",
       "      <td>0.243892</td>\n",
       "      <td>3.287524</td>\n",
       "    </tr>\n",
       "    <tr>\n",
       "      <th>min</th>\n",
       "      <td>0.038378</td>\n",
       "      <td>0.003998</td>\n",
       "      <td>-1695.302303</td>\n",
       "      <td>-0.156360</td>\n",
       "      <td>-27.209455</td>\n",
       "    </tr>\n",
       "    <tr>\n",
       "      <th>25%</th>\n",
       "      <td>0.042908</td>\n",
       "      <td>0.004001</td>\n",
       "      <td>-1127.559201</td>\n",
       "      <td>0.122582</td>\n",
       "      <td>-23.508324</td>\n",
       "    </tr>\n",
       "    <tr>\n",
       "      <th>50%</th>\n",
       "      <td>0.047500</td>\n",
       "      <td>0.004999</td>\n",
       "      <td>-765.591699</td>\n",
       "      <td>0.183716</td>\n",
       "      <td>-19.938838</td>\n",
       "    </tr>\n",
       "    <tr>\n",
       "      <th>75%</th>\n",
       "      <td>0.049315</td>\n",
       "      <td>0.005001</td>\n",
       "      <td>-678.961015</td>\n",
       "      <td>0.427178</td>\n",
       "      <td>-18.560164</td>\n",
       "    </tr>\n",
       "    <tr>\n",
       "      <th>max</th>\n",
       "      <td>0.051000</td>\n",
       "      <td>0.006000</td>\n",
       "      <td>-606.391220</td>\n",
       "      <td>0.613214</td>\n",
       "      <td>-17.862607</td>\n",
       "    </tr>\n",
       "  </tbody>\n",
       "</table>\n",
       "</div>"
      ],
      "text/plain": [
       "        fit_time  score_time    test_rmse    test_r2  test_neg_MAE\n",
       "count  10.000000   10.000000    10.000000  10.000000     10.000000\n",
       "mean    0.045902    0.004800  -919.174110   0.243465    -21.233572\n",
       "std     0.004515    0.000789   349.970001   0.243892      3.287524\n",
       "min     0.038378    0.003998 -1695.302303  -0.156360    -27.209455\n",
       "25%     0.042908    0.004001 -1127.559201   0.122582    -23.508324\n",
       "50%     0.047500    0.004999  -765.591699   0.183716    -19.938838\n",
       "75%     0.049315    0.005001  -678.961015   0.427178    -18.560164\n",
       "max     0.051000    0.006000  -606.391220   0.613214    -17.862607"
      ]
     },
     "execution_count": 59,
     "metadata": {},
     "output_type": "execute_result"
    }
   ],
   "source": [
    "score_df.describe()"
   ]
  },
  {
   "cell_type": "code",
   "execution_count": 195,
   "metadata": {},
   "outputs": [],
   "source": [
    "#generate CI \n",
    "\n",
    "score_df_U95CI = score_df.describe().loc['mean'] + 1.96 * (score_df.describe().loc['std']/ np.sqrt(score_df.describe().loc['count']))\n",
    "score_df_L95CI = score_df.describe().loc['mean'] - 1.96 * (score_df.describe().loc['std']/ np.sqrt(score_df.describe().loc['count']))"
   ]
  },
  {
   "cell_type": "code",
   "execution_count": 196,
   "metadata": {},
   "outputs": [],
   "source": [
    "score_sum = dict()\n",
    "for item in score_df.describe().columns:\n",
    "    mean = round(score_df.describe()[item]['mean'],3)\n",
    "    L95 = round(score_df_U95CI[item],3)\n",
    "    U95 = round(score_df_L95CI[item],3)\n",
    "    score_sum[item]= ((f'{mean}({L95}-{U95})'))\n",
    "    \n",
    "score_summary = pd.Series(score_sum)\n"
   ]
  },
  {
   "cell_type": "code",
   "execution_count": 197,
   "metadata": {},
   "outputs": [
    {
     "data": {
      "text/plain": [
       "fit_time               3.668(3.805-3.531)\n",
       "score_time              0.02(0.022-0.018)\n",
       "test_roc_auc           0.542(0.619-0.464)\n",
       "test_accuracy          0.905(0.916-0.895)\n",
       "test_MCC            -0.032(-0.017--0.046)\n",
       "test_bal_acc           0.491(0.496-0.485)\n",
       "test_sensitivity             0.0(0.0-0.0)\n",
       "test_specificity        0.981(0.992-0.97)\n",
       "test_PPV                     0.0(0.0-0.0)\n",
       "test_NPV               0.921(0.925-0.917)\n",
       "test_f1                      0.0(0.0-0.0)\n",
       "dtype: object"
      ]
     },
     "execution_count": 197,
     "metadata": {},
     "output_type": "execute_result"
    }
   ],
   "source": [
    "score_summary"
   ]
  },
  {
   "cell_type": "code",
   "execution_count": null,
   "metadata": {},
   "outputs": [],
   "source": []
  },
  {
   "cell_type": "code",
   "execution_count": null,
   "metadata": {},
   "outputs": [],
   "source": []
  }
 ],
 "metadata": {
  "kernelspec": {
   "display_name": "Python 3 (ipykernel)",
   "language": "python",
   "name": "python3"
  },
  "language_info": {
   "codemirror_mode": {
    "name": "ipython",
    "version": 3
   },
   "file_extension": ".py",
   "mimetype": "text/x-python",
   "name": "python",
   "nbconvert_exporter": "python",
   "pygments_lexer": "ipython3",
   "version": "3.8.12"
  }
 },
 "nbformat": 4,
 "nbformat_minor": 4
}
